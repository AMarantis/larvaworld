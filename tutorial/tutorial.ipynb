{
 "cells": [
  {
   "cell_type": "markdown",
   "metadata": {},
   "source": [
    "# **Tutorial**"
   ]
  },
  {
   "cell_type": "markdown",
   "metadata": {},
   "source": [
    "**IMPORTANT** : Run this once in the beginning :\n",
    "\n",
    "We navigate to the directory of the executable files.  \n",
    "You must end up in the *larvaworld/run* directory"
   ]
  },
  {
   "cell_type": "code",
   "execution_count": 1,
   "metadata": {},
   "outputs": [
    {
     "name": "stdout",
     "output_type": "stream",
     "text": [
      "/home/panos/nawrot_larvaworld/larvaworld/run\n"
     ]
    }
   ],
   "source": [
    "import os\n",
    "os.chdir('../run')\n",
    "!pwd"
   ]
  },
  {
   "cell_type": "markdown",
   "metadata": {},
   "source": [
    "For all the executable py files various flags are available.  \n",
    "The ordering of the flags does not matter.  \n",
    "Help regarding the accepted flags is available via the **-h** flag."
   ]
  },
  {
   "cell_type": "markdown",
   "metadata": {},
   "source": [
    "## **Process existing data**\n"
   ]
  },
  {
   "cell_type": "markdown",
   "metadata": {},
   "source": [
    "Handling and analysis of existing data can be carried out using the **process.py**.  \n",
    "\n",
    "This is applicable to both empirical and simulated data.\n",
    "\n",
    "Let's check the help :"
   ]
  },
  {
   "cell_type": "code",
   "execution_count": 2,
   "metadata": {},
   "outputs": [
    {
     "name": "stdout",
     "output_type": "stream",
     "text": [
      "pygame 1.9.6\n",
      "Hello from the pygame community. https://www.pygame.org/contribute.html\n",
      "usage: process.py [-h] [-fld FOLDERS [FOLDERS ...]]\n",
      "                  [-suf SUFFIXES [SUFFIXES ...]] [-nam NAMES [NAMES ...]]\n",
      "                  [-load] [-d_ids DATASET_IDS [DATASET_IDS ...]]\n",
      "                  [-raw RAW_FOLDERS [RAW_FOLDERS ...]]\n",
      "                  [-t [MIN_DURATION_IN_SEC]] [-all] [-each] [-hide]\n",
      "                  [-vid [VIDEO_SPEED]] [-img [{final,overlap,snapshots}]]\n",
      "                  [-rnd] [-beh] [-trj [TRAJECTORIES]] [-blk] [-head]\n",
      "                  [-aln {origin,arena,center}] [-dyn {lin,ang}]\n",
      "                  [-ids AGENT_IDS [AGENT_IDS ...]]\n",
      "                  [-tkr TICK_RANGE [TICK_RANGE ...]]\n",
      "                  [-fix FIX_POINTS [FIX_POINTS ...]] [-Nsegs [DRAW_NSEGS]]\n",
      "                  [-dim ARENA_DIMS [ARENA_DIMS ...]] [-con] [-mid] [-cen]\n",
      "                  DataGroup_id {reg,init,build,enrich,anal,vis}\n",
      "                  [{reg,init,build,enrich,anal,vis} ...]\n",
      "\n",
      "Initialize processing\n",
      "\n",
      "positional arguments:\n",
      "  DataGroup_id          The id of the DataGroup to process.\n",
      "  {reg,init,build,enrich,anal,vis}\n",
      "                        The sequential processing actions to perform on the\n",
      "                        DataGroup.\n",
      "\n",
      "optional arguments:\n",
      "  -h, --help            show this help message and exit\n",
      "  -fld FOLDERS [FOLDERS ...], --folders FOLDERS [FOLDERS ...]\n",
      "                        Folders under the DataGroup parent dir where to search\n",
      "                        for datasets\n",
      "  -suf SUFFIXES [SUFFIXES ...], --suffixes SUFFIXES [SUFFIXES ...]\n",
      "                        Suffixes of the dataset names\n",
      "  -nam NAMES [NAMES ...], --names NAMES [NAMES ...]\n",
      "                        Names of the datasets\n",
      "  -load, --load_data    Not load the data from the datasets\n",
      "  -d_ids DATASET_IDS [DATASET_IDS ...], --dataset_ids DATASET_IDS [DATASET_IDS ...]\n",
      "                        Ids of newly built datasets\n",
      "  -raw RAW_FOLDERS [RAW_FOLDERS ...], --raw_folders RAW_FOLDERS [RAW_FOLDERS ...]\n",
      "                        Folders where to search for raw data when building a\n",
      "                        dataset\n",
      "  -t [MIN_DURATION_IN_SEC], --min_duration_in_sec [MIN_DURATION_IN_SEC]\n",
      "                        During dataset building, the minimum duration in sec\n",
      "                        of included larva tracks.\n",
      "  -all, --all_folders   Create a single merged dataset from all raw folders\n",
      "  -each, --each_folder  Create a dataset from each raw folder\n",
      "  -hide, --show_display\n",
      "                        Hide display\n",
      "  -vid [VIDEO_SPEED], --video_speed [VIDEO_SPEED]\n",
      "                        The fast-forward speed of the video\n",
      "  -img [{final,overlap,snapshots}], --image_mode [{final,overlap,snapshots}]\n",
      "                        Select image mode\n",
      "  -rnd, --random_larva_colors\n",
      "                        Color larvae with random colors\n",
      "  -beh, --color_behavior\n",
      "                        Color behavioral epochs\n",
      "  -trj [TRAJECTORIES], --trajectories [TRAJECTORIES]\n",
      "                        Show trajectories of specific time duration\n",
      "  -blk, --black_background\n",
      "                        Black background\n",
      "  -head, --draw_head    Color the head and tail\n",
      "  -aln {origin,arena,center}, --align_mode {origin,arena,center}\n",
      "                        The alignment mode for visualization\n",
      "  -dyn {lin,ang}, --dynamic_color {lin,ang}\n",
      "                        Color the trajectories based on velocity\n",
      "  -ids AGENT_IDS [AGENT_IDS ...], --agent_ids AGENT_IDS [AGENT_IDS ...]\n",
      "                        The indexes of larvae to visualize\n",
      "  -tkr TICK_RANGE [TICK_RANGE ...], --tick_range TICK_RANGE [TICK_RANGE ...]\n",
      "                        The time range to visualize in ticks\n",
      "  -fix FIX_POINTS [FIX_POINTS ...], --fix_points FIX_POINTS [FIX_POINTS ...]\n",
      "                        Fixate a midline point to the center of the screen\n",
      "  -Nsegs [DRAW_NSEGS], --draw_Nsegs [DRAW_NSEGS]\n",
      "                        Simplify larva body to N segments\n",
      "  -dim ARENA_DIMS [ARENA_DIMS ...], --arena_dims ARENA_DIMS [ARENA_DIMS ...]\n",
      "                        The arena dimensions in m\n",
      "  -con, --draw_contour  Hide the contour\n",
      "  -mid, --draw_midline  Hide the midline\n",
      "  -cen, --draw_centroid\n",
      "                        Show the centroid\n"
     ]
    }
   ],
   "source": [
    "!python process.py -h"
   ]
  },
  {
   "cell_type": "markdown",
   "metadata": {},
   "source": [
    "### **Registration**\n",
    "-------------------"
   ]
  },
  {
   "cell_type": "markdown",
   "metadata": {},
   "source": [
    "We define a new DataGroup named *TestGroup* by using the action **reg**  \n",
    "This opens an interactive dialoque prompting the user for appropriate input.  \n",
    "Initially we are asked to either use an existing configuration or define a new one.  \n",
    "Then we define the path, subgroups and arena parameters of the DataGroup   \n",
    "\n",
    "Note : the interactive dialogue only runs in linux terminal. For this tutorial, the DataGroup is already defined."
   ]
  },
  {
   "cell_type": "code",
   "execution_count": null,
   "metadata": {},
   "outputs": [],
   "source": [
    "!python process.py TestGroup reg"
   ]
  },
  {
   "cell_type": "markdown",
   "metadata": {},
   "source": [
    "We initialize the directory structure of the new DataGroup by using the action **init**.  \n",
    "This is required for any further processing.  \n",
    "Two basic folders are created under the DataGroup path :  \n",
    "- **raw** : Any raw files as generated by the tracker. These can be transformed to the larvaworld format by the *build* action, once the relevant build configuration is in place. The files must be added manually.  \n",
    "- **processed** : Datasets in larvaworld format that can be further analysed. These are either added manually or generated by the *build* action.  \n",
    "\n",
    "Note : For this tutorial, the *raw* folder of the DataGroup already exists containing some raw recordings (see below)"
   ]
  },
  {
   "cell_type": "code",
   "execution_count": null,
   "metadata": {},
   "outputs": [],
   "source": [
    "!python process.py TestGroup init"
   ]
  },
  {
   "cell_type": "markdown",
   "metadata": {},
   "source": [
    "In the *raw* folder of the DataGroup there are 3 directories.   \n",
    "Each contains an empirical 3' recording of a dish of freely-exploring larvae.\n"
   ]
  },
  {
   "cell_type": "code",
   "execution_count": null,
   "metadata": {},
   "outputs": [],
   "source": [
    "!ls ../data/TestGroup/raw"
   ]
  },
  {
   "cell_type": "markdown",
   "metadata": {},
   "source": [
    "### **Building**\n",
    "-----------------"
   ]
  },
  {
   "cell_type": "markdown",
   "metadata": {},
   "source": [
    "We transform the raw recordings to the larvaworld format by the *build* action.\n",
    "To select the raw data you can use the following flags :\n",
    "- **-all**  : a single merged dataset will be created from all raw data in the DataGroup raw directory.    \n",
    "- **-each** : a separate dataset will be created for each folder in the raw directory.  \n",
    "- **-raw**  : manually define the raw data folders for each dataset to be created.  \n",
    "\n",
    "Additionally :\n",
    "- **-t** and a float : demand a minimum track duration in seconds for the included larva tracks.\n",
    "- **-d_ids** : manually define the unique ids of the new datasets"
   ]
  },
  {
   "cell_type": "markdown",
   "metadata": {},
   "source": [
    "Here we first create a dataset per dish.  "
   ]
  },
  {
   "cell_type": "code",
   "execution_count": 3,
   "metadata": {},
   "outputs": [
    {
     "name": "stdout",
     "output_type": "stream",
     "text": [
      "pygame 1.9.6\n",
      "Hello from the pygame community. https://www.pygame.org/contribute.html\n",
      "Initialized dataset dish_0 with new configuration\n",
      "Data not loaded as requested.\n",
      "Initialized dataset dish_1 with new configuration\n",
      "Data not loaded as requested.\n",
      "Initialized dataset dish_2 with new configuration\n",
      "Data not loaded as requested.\n",
      "3 datasets loaded.\n",
      "Saving data\n",
      "Dataset dish_0 created with 15 larvae!\n",
      "Saving data\n",
      "Dataset dish_1 created with 15 larvae!\n",
      "Saving data\n",
      "Dataset dish_2 created with 15 larvae!\n"
     ]
    }
   ],
   "source": [
    "!python process.py TestGroup build -each"
   ]
  },
  {
   "cell_type": "markdown",
   "metadata": {},
   "source": [
    "In the *processed* folder of the DataGroup there are now 3 directories.  \n",
    "Each contains a dataset containing larva tracks from the respective dish.  \n",
    "The datasets are in larvaworld format and can be analysed further."
   ]
  },
  {
   "cell_type": "code",
   "execution_count": 4,
   "metadata": {},
   "outputs": [
    {
     "name": "stdout",
     "output_type": "stream",
     "text": [
      "dish_0\tdish_1\tdish_2\n"
     ]
    }
   ],
   "source": [
    "!ls ../data/TestGroup/processed"
   ]
  },
  {
   "cell_type": "markdown",
   "metadata": {},
   "source": [
    "Let's have a look at the default directory structure of a larvaworld dataset :\n",
    "- **data** : The data and configuration of the dataset\n",
    "    - step_dataset.csv : The step by step data. One row per timestep per larva\n",
    "    - endpoint_dataset.csv : The endpoint data. One row per larva\n",
    "    - config_dataset.csv : The dataset configuration. It is loaded into python as a dictionary.\n",
    "- **aux** : Auxiliary files generated during enrichment and useful for plotting.\n",
    "- **plots** : The directory to store analysis plots.\n",
    "- **visuals** : The directory to store dataset visualizations.\n"
   ]
  },
  {
   "cell_type": "code",
   "execution_count": 5,
   "metadata": {},
   "outputs": [
    {
     "name": "stdout",
     "output_type": "stream",
     "text": [
      "aux  data  plots  visuals\n",
      "dataset_conf.csv  endpoint_data.csv  step_data.csv\n"
     ]
    }
   ],
   "source": [
    "!ls ../data/TestGroup/processed/dish_0\n",
    "!ls ../data/TestGroup/processed/dish_0/data"
   ]
  },
  {
   "cell_type": "markdown",
   "metadata": {},
   "source": [
    "Let's create also a merged dataset with the larva tracks longer then 170 seconds from all dishes.  "
   ]
  },
  {
   "cell_type": "code",
   "execution_count": 6,
   "metadata": {},
   "outputs": [
    {
     "name": "stdout",
     "output_type": "stream",
     "text": [
      "pygame 1.9.6\n",
      "Hello from the pygame community. https://www.pygame.org/contribute.html\n",
      "Initialized dataset merged with new configuration\n",
      "Data not loaded as requested.\n",
      "1 datasets loaded.\n",
      "Saving data\n",
      "Dataset merged created with 29 larvae!\n"
     ]
    }
   ],
   "source": [
    "!python process.py TestGroup build -all -t 170"
   ]
  },
  {
   "cell_type": "code",
   "execution_count": 7,
   "metadata": {},
   "outputs": [
    {
     "name": "stdout",
     "output_type": "stream",
     "text": [
      "dish_0\tdish_1\tdish_2\tmerged\n",
      "aux  data  plots  visuals\n"
     ]
    }
   ],
   "source": [
    "!ls ../data/TestGroup/processed\n",
    "!ls ../data/TestGroup/processed/merged"
   ]
  },
  {
   "cell_type": "markdown",
   "metadata": {},
   "source": [
    "### **Selection**\n",
    "-----------------"
   ]
  },
  {
   "cell_type": "markdown",
   "metadata": {},
   "source": [
    "To select specific datasets for processing the following flags are available :\n",
    "- **-fld** : Folders under the DataGroup proceesed directory where to search for datasets\n",
    "- **-nam** : Names of the datasets to select. All provided folders will be searched.\n",
    "- **-suf** : Suffixes to attach to the names"
   ]
  },
  {
   "cell_type": "markdown",
   "metadata": {},
   "source": [
    "### **Enrichment**\n",
    "-----------------"
   ]
  },
  {
   "cell_type": "markdown",
   "metadata": {},
   "source": [
    "These datasets only contain the primary parameters already contained in the raw files (mostly xy coordinates of midline and contour points).  \n",
    "We can enrich the datasets with derived parameters and annotate behavioral epochs.  \n",
    "The enrichment configuration is contained in the DataGroup configuration as defined above.  \n",
    "\n",
    "Let's apply enrichment to both the separate-dish datasets..."
   ]
  },
  {
   "cell_type": "code",
   "execution_count": 9,
   "metadata": {
    "collapsed": true,
    "jupyter": {
     "outputs_hidden": true
    }
   },
   "outputs": [
    {
     "name": "stdout",
     "output_type": "stream",
     "text": [
      "pygame 1.9.6\n",
      "Hello from the pygame community. https://www.pygame.org/contribute.html\n",
      "Loaded dataset dish_0 with existing configuration\n",
      "Loading data from /home/panos/Desktop/flyworld/lib/stor/../../data/TestGroup/processed/dish_0/data/step_data.csv\n",
      "Step data loaded according to types dictionary\n",
      "Data loaded successfully from stored csv files.\n",
      "Loaded dataset dish_1 with existing configuration\n",
      "Loading data from /home/panos/Desktop/flyworld/lib/stor/../../data/TestGroup/processed/dish_1/data/step_data.csv\n",
      "Step data loaded according to types dictionary\n",
      "Data loaded successfully from stored csv files.\n",
      "Loaded dataset dish_2 with existing configuration\n",
      "Loading data from /home/panos/Desktop/flyworld/lib/stor/../../data/TestGroup/processed/dish_2/data/step_data.csv\n",
      "Step data loaded according to types dictionary\n",
      "Data loaded successfully from stored csv files.\n",
      "3 datasets loaded.\n",
      "Traceback (most recent call last):\n",
      "  File \"/home/panos/Desktop/flyworld_venv/lib/python3.6/site-packages/pandas/core/indexes/base.py\", line 2646, in get_loc\n",
      "    return self._engine.get_loc(key)\n",
      "  File \"pandas/_libs/index.pyx\", line 111, in pandas._libs.index.IndexEngine.get_loc\n",
      "  File \"pandas/_libs/index.pyx\", line 138, in pandas._libs.index.IndexEngine.get_loc\n",
      "  File \"pandas/_libs/hashtable_class_helper.pxi\", line 1618, in pandas._libs.hashtable.PyObjectHashTable.get_item\n",
      "  File \"pandas/_libs/hashtable_class_helper.pxi\", line 1626, in pandas._libs.hashtable.PyObjectHashTable.get_item\n",
      "KeyError: 'collision_flag'\n",
      "\n",
      "During handling of the above exception, another exception occurred:\n",
      "\n",
      "Traceback (most recent call last):\n",
      "  File \"process.py\", line 40, in <module>\n",
      "    enrich_datasets(DataGroup_id, **data_kwargs)\n",
      "  File \"../lib/stor/managing.py\", line 123, in enrich_datasets\n",
      "    ds = [d.enrich(**enrich_conf) for d in ds]\n",
      "  File \"../lib/stor/managing.py\", line 123, in <listcomp>\n",
      "    ds = [d.enrich(**enrich_conf) for d in ds]\n",
      "  File \"../lib/stor/larva_dataset.py\", line 3100, in enrich\n",
      "    self.exclude_rows(flag_column='collision_flag', accepted_values=[0], is_last=False)\n",
      "  File \"../lib/stor/larva_dataset.py\", line 450, in exclude_rows\n",
      "    self.step_data.loc[self.step_data[flag_column] != accepted_values[0]] = np.nan\n",
      "  File \"/home/panos/Desktop/flyworld_venv/lib/python3.6/site-packages/pandas/core/frame.py\", line 2800, in __getitem__\n",
      "    indexer = self.columns.get_loc(key)\n",
      "  File \"/home/panos/Desktop/flyworld_venv/lib/python3.6/site-packages/pandas/core/indexes/base.py\", line 2648, in get_loc\n",
      "    return self._engine.get_loc(self._maybe_cast_indexer(key))\n",
      "  File \"pandas/_libs/index.pyx\", line 111, in pandas._libs.index.IndexEngine.get_loc\n",
      "  File \"pandas/_libs/index.pyx\", line 138, in pandas._libs.index.IndexEngine.get_loc\n",
      "  File \"pandas/_libs/hashtable_class_helper.pxi\", line 1618, in pandas._libs.hashtable.PyObjectHashTable.get_item\n",
      "  File \"pandas/_libs/hashtable_class_helper.pxi\", line 1626, in pandas._libs.hashtable.PyObjectHashTable.get_item\n",
      "KeyError: 'collision_flag'\n"
     ]
    }
   ],
   "source": [
    "!python process.py TestGroup enrich -nam dish_0 dish_1 dish_2"
   ]
  },
  {
   "cell_type": "markdown",
   "metadata": {},
   "source": [
    "... and the merged dataset.  "
   ]
  },
  {
   "cell_type": "code",
   "execution_count": 10,
   "metadata": {
    "collapsed": true,
    "jupyter": {
     "outputs_hidden": true
    }
   },
   "outputs": [
    {
     "name": "stdout",
     "output_type": "stream",
     "text": [
      "pygame 1.9.6\n",
      "Hello from the pygame community. https://www.pygame.org/contribute.html\n",
      "Loaded dataset merged with existing configuration\n",
      "Loading data from /home/panos/Desktop/flyworld/lib/stor/../../data/TestGroup/processed/merged/data/step_data.csv\n",
      "Step data loaded according to types dictionary\n",
      "Data loaded successfully from stored csv files.\n",
      "1 datasets loaded.\n",
      "Rows excluded according to collision_flag.\n",
      "Applying filter to all spatial parameters\n",
      "All parameters filtered\n",
      "Computing total spinelength\n",
      "All spinelengths computed.\n",
      "All lengths computed.\n",
      "Computing centroid from 22 contourpoints\n",
      "Centroid coordinates computed.\n",
      "Computing front and rear orientations\n",
      "All orientations computed\n",
      "Computing 5 angles\n",
      "All angles computed\n",
      "Computing bending angle as the sum of the first 5 front angles\n",
      "All bends computed\n",
      "All orientations unwrapped\n",
      "Computing angular velocities and accelerations for 3 angular parameters\n",
      "All angular parameters computed\n",
      "LR biases computed\n",
      "Dataset saved as bend.csv\n",
      "Dataset saved as bend_vel.csv\n",
      "Dataset saved as bend_acc.csv\n",
      "Dataset saved as front_orientation_vel.csv\n",
      "Dataset saved as front_orientation_acc.csv\n",
      "Dataset saved as rear_orientation_vel.csv\n",
      "Dataset saved as rear_orientation_acc.csv\n",
      "Completed minimal angular analysis.\n",
      "Detecting chunks-on-condition for 29 agents\n",
      "Computing chunk metrics for 29 agents\n",
      "Chunk metrics computed\n",
      "All chunks-on-condition detected\n",
      "Detecting chunks-on-condition for 29 agents\n",
      "Computing chunk metrics for 29 agents\n",
      "Chunk metrics computed\n",
      "All chunks-on-condition detected\n",
      "Dataset saved as Lturn_front_orientation_unwrapped.csv\n",
      "Dataset saved as front_orientation_unwrapped_at_Lturn_start.csv\n",
      "Dataset saved as front_orientation_unwrapped_at_Lturn_stop.csv\n",
      "All parameters tracked\n",
      "Dataset saved as Rturn_front_orientation_unwrapped.csv\n",
      "Dataset saved as front_orientation_unwrapped_at_Rturn_start.csv\n",
      "Dataset saved as front_orientation_unwrapped_at_Rturn_stop.csv\n",
      "All parameters tracked\n",
      "Dataset saved as turn_dur.csv\n",
      "Dataset saved as turn_front_orientation_unwrapped.csv\n",
      "All turns detected\n",
      "Computing distances, velocities and accelerations for a single spinepoint\n",
      "Only raw xy coordinates exist. Using these\n",
      "All spatial parameters computed\n",
      "Defined point is either centroid or head. Orientation of front segment not defined.\n",
      "Computing dispersion starting at 0 based on centroid\n",
      "Dataset saved as /home/panos/Desktop/flyworld/lib/stor/../../data/TestGroup/processed/merged/aux/dispersion/scaled_dispersion.csv\n",
      "Dataset saved as /home/panos/Desktop/flyworld/lib/stor/../../data/TestGroup/processed/merged/aux/dispersion/dispersion.csv\n",
      "Dispersions computed\n",
      "Tortuosities computed\n",
      "Calculating local extrema for scaled_vel\n",
      "All local extrema flagged\n",
      "All dominant frequencies computed\n",
      "Replacing 0 nan values with population mean frequency : 1.4288793103448276\n",
      "Computing chunk metrics for 29 agents\n",
      "Chunk metrics computed\n",
      "Dataset saved as stridechain_dur.csv\n",
      "Dataset saved as stridechain_length.csv\n",
      "All chunks-around-flag detected\n",
      "Detecting non-chunks for 29 agents\n",
      "Computing chunk metrics for 29 agents\n",
      "Chunk metrics computed\n",
      "All non-chunks detected\n",
      "Dataset saved as stride_front_orientation_unwrapped.csv\n",
      "Dataset saved as stride_rear_orientation_unwrapped.csv\n",
      "Dataset saved as stride_bend.csv\n",
      "Dataset saved as stride_centroid_dst.csv\n",
      "Dataset saved as stride_centroid_x.csv\n",
      "Dataset saved as stride_centroid_y.csv\n",
      "Dataset saved as stride_scaled_vel.csv\n",
      "Dataset saved as front_orientation_unwrapped_at_stride_start.csv\n",
      "Dataset saved as rear_orientation_unwrapped_at_stride_start.csv\n",
      "Dataset saved as bend_at_stride_start.csv\n",
      "Dataset saved as centroid_dst_at_stride_start.csv\n",
      "Dataset saved as centroid_x_at_stride_start.csv\n",
      "Dataset saved as centroid_y_at_stride_start.csv\n",
      "Dataset saved as scaled_vel_at_stride_start.csv\n",
      "Dataset saved as front_orientation_unwrapped_at_stride_stop.csv\n",
      "Dataset saved as rear_orientation_unwrapped_at_stride_stop.csv\n",
      "Dataset saved as bend_at_stride_stop.csv\n",
      "Dataset saved as centroid_dst_at_stride_stop.csv\n",
      "Dataset saved as centroid_x_at_stride_stop.csv\n",
      "Dataset saved as centroid_y_at_stride_stop.csv\n",
      "Dataset saved as scaled_vel_at_stride_stop.csv\n",
      "All parameters tracked\n",
      "Dataset saved as scaled_vel.csv\n",
      "Dataset saved as spinelength.csv\n",
      "Dataset saved as front_orientation_vel.csv\n",
      "Dataset saved as rear_orientation_vel.csv\n",
      "Dataset saved as bend_vel.csv\n",
      "All strides detected\n",
      "Detecting chunks-on-condition for 29 agents\n",
      "Computing chunk metrics for 29 agents\n",
      "Chunk metrics computed\n",
      "All chunks-on-condition detected\n",
      "Dataset saved as pause_dur.csv\n",
      "All crawl-pauses detected\n",
      "50 parameters dropped. 126 remain.\n",
      "Non simulated parameters dropped.\n",
      "Saving data\n"
     ]
    }
   ],
   "source": [
    "!python process.py TestGroup enrich -nam merged"
   ]
  },
  {
   "cell_type": "markdown",
   "metadata": {},
   "source": [
    "Let's have a look at the enriched datasets.    \n",
    "The *aux* folder contains files generated by the enrichment."
   ]
  },
  {
   "cell_type": "code",
   "execution_count": 11,
   "metadata": {},
   "outputs": [
    {
     "name": "stdout",
     "output_type": "stream",
     "text": [
      "dish_0\tdish_1\tdish_2\tmerged\n",
      "aux  data  plots  visuals\n"
     ]
    }
   ],
   "source": [
    "!ls ../data/TestGroup/processed\n",
    "!ls ../data/TestGroup/processed/merged"
   ]
  },
  {
   "cell_type": "code",
   "execution_count": 12,
   "metadata": {
    "collapsed": true,
    "jupyter": {
     "outputs_hidden": true
    }
   },
   "outputs": [
    {
     "name": "stdout",
     "output_type": "stream",
     "text": [
      "dispersion  par_distros  par_during_stride\n",
      "Lturn_front_orientation_unwrapped.csv\n",
      "Rturn_front_orientation_unwrapped.csv\n",
      "bend.csv\n",
      "bend_acc.csv\n",
      "bend_at_stride_start.csv\n",
      "bend_at_stride_stop.csv\n",
      "bend_vel.csv\n",
      "centroid_dst_at_stride_start.csv\n",
      "centroid_dst_at_stride_stop.csv\n",
      "centroid_x_at_stride_start.csv\n",
      "centroid_x_at_stride_stop.csv\n",
      "centroid_y_at_stride_start.csv\n",
      "centroid_y_at_stride_stop.csv\n",
      "front_orientation_acc.csv\n",
      "front_orientation_unwrapped_at_Lturn_start.csv\n",
      "front_orientation_unwrapped_at_Lturn_stop.csv\n",
      "front_orientation_unwrapped_at_Rturn_start.csv\n",
      "front_orientation_unwrapped_at_Rturn_stop.csv\n",
      "front_orientation_unwrapped_at_stride_start.csv\n",
      "front_orientation_unwrapped_at_stride_stop.csv\n",
      "front_orientation_vel.csv\n",
      "pause_dur.csv\n",
      "rear_orientation_acc.csv\n",
      "rear_orientation_unwrapped_at_stride_start.csv\n",
      "rear_orientation_unwrapped_at_stride_stop.csv\n",
      "rear_orientation_vel.csv\n",
      "scaled_vel_at_stride_start.csv\n",
      "scaled_vel_at_stride_stop.csv\n",
      "stride_bend.csv\n",
      "stride_centroid_dst.csv\n",
      "stride_centroid_x.csv\n",
      "stride_centroid_y.csv\n",
      "stride_front_orientation_unwrapped.csv\n",
      "stride_rear_orientation_unwrapped.csv\n",
      "stride_scaled_vel.csv\n",
      "stridechain_dur.csv\n",
      "stridechain_length.csv\n",
      "turn_dur.csv\n",
      "turn_front_orientation_unwrapped.csv\n"
     ]
    }
   ],
   "source": [
    "!ls ../data/TestGroup/processed/merged/aux\n",
    "!ls ../data/TestGroup/processed/merged/aux/par_distros"
   ]
  },
  {
   "cell_type": "markdown",
   "metadata": {},
   "source": [
    "### **Analysis**\n",
    "-----------------"
   ]
  },
  {
   "cell_type": "markdown",
   "metadata": {},
   "source": [
    "Let's now analyse the enriched merged dataset using the **anal** action.  "
   ]
  },
  {
   "cell_type": "code",
   "execution_count": 13,
   "metadata": {
    "collapsed": true,
    "jupyter": {
     "outputs_hidden": true
    }
   },
   "outputs": [
    {
     "name": "stdout",
     "output_type": "stream",
     "text": [
      "pygame 1.9.6\n",
      "Hello from the pygame community. https://www.pygame.org/contribute.html\n",
      "Loaded dataset merged with existing configuration\n",
      "Loading data from /home/panos/Desktop/flyworld/lib/stor/../../data/TestGroup/processed/merged/data/step_data.csv\n",
      "Step data loaded according to types dictionary\n",
      "Data loaded successfully from stored csv files.\n",
      "1 datasets loaded.\n",
      "Plot saved as endpoint_params_minimal.pdf\n",
      "Plot saved as endpoint_params_limited.pdf\n",
      "Plot saved as endpoint_params_full.pdf\n",
      "Plot saved as interference_orientation.pdf\n",
      "Plot saved as interference_orientation_agent_idx_0.pdf\n",
      "Plot saved as interference_orientation_agent_idx_1.pdf\n",
      "Plot saved as interference_bend.pdf\n",
      "Plot saved as interference_bend_agent_idx_0.pdf\n",
      "Plot saved as interference_bend_agent_idx_1.pdf\n",
      "Plot saved as interference_spinelength.pdf\n",
      "Plot saved as interference_spinelength_agent_idx_0.pdf\n",
      "Plot saved as interference_spinelength_agent_idx_1.pdf\n",
      "Bend correction during strides for merged fitted as : db=-0.665*b + -2.091\n",
      "Plot saved as bend_correction.pdf\n",
      "Plot saved as orientation_over_strides.pdf\n",
      "Plot saved as crawl_pars.pdf\n",
      "-----merged-stridechains----------\n",
      "range : 1.0 - 96.0, Nbouts : 621\n",
      "powerlaw exponent MLE: 1.622361410565052\n",
      "powerlaw exponent powerlaw package: 1.2040963594037495\n",
      "exponential exponent MLE: 0.12147887323943662\n",
      "lognormal mean,std: 1.606783426838891 1.1023240362925475\n",
      "KS plaw 0.19347024196732088\n",
      "KS exp 0.17847957630546174\n",
      "KS logn 0.08767701189620197\n",
      "No handles with labels found to put in legend.\n",
      "\n",
      "-----merged-pauses----------\n",
      "range : 0.3125 - 11.3125, Nbouts : 282\n",
      "powerlaw exponent MLE: 2.570404035102815\n",
      "powerlaw exponent powerlaw package: 1.9752891936945973\n",
      "exponential exponent MLE: 2.520107238605898\n",
      "lognormal mean,std: -0.5671940024079126 0.5527963822005229\n",
      "KS plaw 0.10718359371329544\n",
      "KS exp 0.1701805176476262\n",
      "KS logn 0.12467638217956095\n",
      "No handles with labels found to put in legend.\n",
      "\n",
      "Plot saved as stridesNpauses_pdf_default.pdf\n",
      "Fits saved as bout_fits_default.csv.\n",
      "-----merged-stridechains----------\n",
      "range : 1.0 - 96.0, Nbouts : 621\n",
      "powerlaw exponent MLE: 1.622361410565052\n",
      "powerlaw exponent powerlaw package: 1.2040963594037495\n",
      "exponential exponent MLE: 0.12147887323943662\n",
      "lognormal mean,std: 1.606783426838891 1.1023240362925475\n",
      "KS plaw 0.19347024196732088\n",
      "KS exp 0.17847957630546174\n",
      "KS logn 0.08767701189620197\n",
      "No handles with labels found to put in legend.\n",
      "\n",
      "-----merged-pauses----------\n",
      "range : 0.3125 - 11.3125, Nbouts : 282\n",
      "powerlaw exponent MLE: 2.570404035102815\n",
      "powerlaw exponent powerlaw package: 1.9752891936945973\n",
      "exponential exponent MLE: 2.520107238605898\n",
      "lognormal mean,std: -0.5671940024079126 0.5527963822005229\n",
      "KS plaw 0.10718359371329544\n",
      "KS exp 0.1701805176476262\n",
      "KS logn 0.12467638217956095\n",
      "No handles with labels found to put in legend.\n",
      "\n",
      "Plot saved as stridesNpauses_cdf_default.pdf\n",
      "Fits saved as bout_fits_default.csv.\n",
      "-----merged-stridechains----------\n",
      "range : 1.0 - 137.0, Nbouts : 623\n",
      "powerlaw exponent MLE: 1.6183056372464735\n",
      "powerlaw exponent powerlaw package: 1.2450997034224938\n",
      "exponential exponent MLE: 0.11588541666666667\n",
      "lognormal mean,std: 1.617323116207289 1.116114794217871\n",
      "KS plaw 0.19119783874395402\n",
      "KS exp 0.18872662482091618\n",
      "KS logn 0.09386203726809489\n",
      "No handles with labels found to put in legend.\n",
      "\n",
      "-----merged-pauses----------\n",
      "range : 0.125 - 11.3125, Nbouts : 591\n",
      "powerlaw exponent MLE: 2.1727456728325816\n",
      "powerlaw exponent powerlaw package: 1.8455076831913657\n",
      "exponential exponent MLE: 3.389247311827957\n",
      "lognormal mean,std: -1.2267417422555855 0.7648647268380021\n",
      "KS plaw 0.19704919378605767\n",
      "KS exp 0.2465771068907583\n",
      "KS logn 0.13246005430500252\n",
      "No handles with labels found to put in legend.\n",
      "\n",
      "Plot saved as stridesNpauses_pdf_restricted.pdf\n",
      "Fits saved as bout_fits_restricted.csv.\n",
      "-----merged-stridechains----------\n",
      "range : 1.0 - 137.0, Nbouts : 623\n",
      "powerlaw exponent MLE: 1.6183056372464735\n",
      "powerlaw exponent powerlaw package: 1.2450997034224938\n",
      "exponential exponent MLE: 0.11588541666666667\n",
      "lognormal mean,std: 1.617323116207289 1.116114794217871\n",
      "KS plaw 0.19119783874395402\n",
      "KS exp 0.18872662482091618\n",
      "KS logn 0.09386203726809489\n",
      "No handles with labels found to put in legend.\n",
      "\n",
      "-----merged-pauses----------\n",
      "range : 0.125 - 11.3125, Nbouts : 591\n",
      "powerlaw exponent MLE: 2.1727456728325816\n",
      "powerlaw exponent powerlaw package: 1.8455076831913657\n",
      "exponential exponent MLE: 3.389247311827957\n",
      "lognormal mean,std: -1.2267417422555855 0.7648647268380021\n",
      "KS plaw 0.19704919378605767\n",
      "KS exp 0.2465771068907583\n",
      "KS logn 0.13246005430500252\n",
      "No handles with labels found to put in legend.\n",
      "\n",
      "Plot saved as stridesNpauses_cdf_restricted.pdf\n",
      "Fits saved as bout_fits_restricted.csv.\n",
      "-----merged-stridechains----------\n",
      "range : 1.0 - 137.0, Nbouts : 623\n",
      "powerlaw exponent MLE: 1.6183056372464735\n",
      "powerlaw exponent powerlaw package: 1.2450997034224938\n",
      "exponential exponent MLE: 0.11588541666666667\n",
      "lognormal mean,std: 1.617323116207289 1.116114794217871\n",
      "KS plaw 0.19119783874395402\n",
      "KS exp 0.18872662482091618\n",
      "KS logn 0.09386203726809489\n",
      "No handles with labels found to put in legend.\n",
      "\n",
      "-----merged-pauses----------\n",
      "range : 0.125 - 11.3125, Nbouts : 591\n",
      "powerlaw exponent MLE: 2.1727456728325816\n",
      "powerlaw exponent powerlaw package: 1.8455076831913657\n",
      "exponential exponent MLE: 3.389247311827957\n",
      "lognormal mean,std: -1.2267417422555855 0.7648647268380021\n",
      "KS plaw 0.19704919378605767\n",
      "KS exp 0.2465771068907583\n",
      "KS logn 0.13246005430500252\n",
      "No handles with labels found to put in legend.\n",
      "\n",
      "Plot saved as stridesNpauses_pdf_broad.pdf\n",
      "Fits saved as bout_fits_broad.csv.\n",
      "-----merged-stridechains----------\n",
      "range : 1.0 - 137.0, Nbouts : 623\n",
      "powerlaw exponent MLE: 1.6183056372464735\n",
      "powerlaw exponent powerlaw package: 1.2450997034224938\n",
      "exponential exponent MLE: 0.11588541666666667\n",
      "lognormal mean,std: 1.617323116207289 1.116114794217871\n",
      "KS plaw 0.19119783874395402\n",
      "KS exp 0.18872662482091618\n",
      "KS logn 0.09386203726809489\n",
      "No handles with labels found to put in legend.\n",
      "\n",
      "-----merged-pauses----------\n",
      "range : 0.125 - 11.3125, Nbouts : 591\n",
      "powerlaw exponent MLE: 2.1727456728325816\n",
      "powerlaw exponent powerlaw package: 1.8455076831913657\n",
      "exponential exponent MLE: 3.389247311827957\n",
      "lognormal mean,std: -1.2267417422555855 0.7648647268380021\n",
      "KS plaw 0.19704919378605767\n",
      "KS exp 0.2465771068907583\n",
      "KS logn 0.13246005430500252\n",
      "No handles with labels found to put in legend.\n",
      "\n",
      "Plot saved as stridesNpauses_cdf_broad.pdf\n",
      "Fits saved as bout_fits_broad.csv.\n",
      "Plot saved as angular_pars.pdf\n",
      "Plot saved as turns.pdf\n",
      "Plot saved as turn_duration.pdf\n",
      "Plot saved as scaled_dispersion_0-40.pdf\n",
      "Plot saved as dispersion_0-40.pdf\n",
      "Concatenated pdfs saved as /home/panos/Desktop/flyworld/lib/stor/../../data/TestGroup/processed/merged/plots/comparative/final.pdf\n"
     ]
    }
   ],
   "source": [
    "!python process.py TestGroup anal -nam merged"
   ]
  },
  {
   "cell_type": "markdown",
   "metadata": {},
   "source": [
    "Plot files are generated in the respective folder.  "
   ]
  },
  {
   "cell_type": "code",
   "execution_count": 14,
   "metadata": {
    "collapsed": true,
    "jupyter": {
     "outputs_hidden": true
    }
   },
   "outputs": [
    {
     "name": "stdout",
     "output_type": "stream",
     "text": [
      "angular_pars.pdf\n",
      "bend_correction.pdf\n",
      "bout_fits\n",
      "crawl_pars.pdf\n",
      "dispersion\n",
      "endpoint_params_full.pdf\n",
      "endpoint_params_limited.pdf\n",
      "endpoint_params_minimal.pdf\n",
      "final.pdf\n",
      "interference_bend.pdf\n",
      "interference_bend_agent_idx_0.pdf\n",
      "interference_bend_agent_idx_1.pdf\n",
      "interference_orientation.pdf\n",
      "interference_orientation_agent_idx_0.pdf\n",
      "interference_orientation_agent_idx_1.pdf\n",
      "interference_spinelength.pdf\n",
      "interference_spinelength_agent_idx_0.pdf\n",
      "interference_spinelength_agent_idx_1.pdf\n",
      "orientation_over_strides.pdf\n",
      "stridesNpauses_cdf_broad.pdf\n",
      "stridesNpauses_cdf_default.pdf\n",
      "stridesNpauses_cdf_restricted.pdf\n",
      "stridesNpauses_pdf_broad.pdf\n",
      "stridesNpauses_pdf_default.pdf\n",
      "stridesNpauses_pdf_restricted.pdf\n",
      "turn_duration.pdf\n",
      "turns.pdf\n"
     ]
    }
   ],
   "source": [
    "!ls ../data/TestGroup/processed/merged/plots/comparative"
   ]
  },
  {
   "cell_type": "markdown",
   "metadata": {},
   "source": [
    "Let's have a look at some of the plots. \n",
    "\n",
    "Some of the endpoint parameters."
   ]
  },
  {
   "cell_type": "code",
   "execution_count": 15,
   "metadata": {},
   "outputs": [],
   "source": [
    "!evince ../data/TestGroup/processed/merged/plots/comparative/endpoint_params_minimal.pdf"
   ]
  },
  {
   "cell_type": "code",
   "execution_count": 16,
   "metadata": {},
   "outputs": [],
   "source": [
    "!evince ../data/TestGroup/processed/merged/plots/comparative/crawl_pars.pdf"
   ]
  },
  {
   "cell_type": "markdown",
   "metadata": {},
   "source": [
    "The distribution of angular parameters merged for all the larvae."
   ]
  },
  {
   "cell_type": "code",
   "execution_count": 17,
   "metadata": {},
   "outputs": [],
   "source": [
    "!evince ../data/TestGroup/processed/merged/plots/comparative/angular_pars.pdf"
   ]
  },
  {
   "cell_type": "markdown",
   "metadata": {},
   "source": [
    "If we include multiple datasets, the analysis will generate comparative plots.  \n",
    "Here we analyse comparatively all dishes.  "
   ]
  },
  {
   "cell_type": "code",
   "execution_count": 18,
   "metadata": {
    "collapsed": true,
    "jupyter": {
     "outputs_hidden": true
    }
   },
   "outputs": [
    {
     "name": "stdout",
     "output_type": "stream",
     "text": [
      "pygame 1.9.6\n",
      "Hello from the pygame community. https://www.pygame.org/contribute.html\n",
      "Loaded dataset dish_0 with existing configuration\n",
      "Loading data from /home/panos/Desktop/flyworld/lib/stor/../../data/TestGroup/processed/dish_0/data/step_data.csv\n",
      "Step data loaded according to types dictionary\n",
      "Data loaded successfully from stored csv files.\n",
      "Loaded dataset dish_1 with existing configuration\n",
      "Loading data from /home/panos/Desktop/flyworld/lib/stor/../../data/TestGroup/processed/dish_1/data/step_data.csv\n",
      "Step data loaded according to types dictionary\n",
      "Data loaded successfully from stored csv files.\n",
      "Loaded dataset dish_2 with existing configuration\n",
      "Loading data from /home/panos/Desktop/flyworld/lib/stor/../../data/TestGroup/processed/dish_2/data/step_data.csv\n",
      "Step data loaded according to types dictionary\n",
      "Data loaded successfully from stored csv files.\n",
      "3 datasets loaded.\n",
      "Plot saved as endpoint_params_minimal.pdf\n",
      "Tests saved as endpoint_ttest.csv.\n",
      "Plot saved as endpoint_params_limited.pdf\n",
      "Tests saved as endpoint_ttest.csv.\n",
      "Plot saved as endpoint_params_full.pdf\n",
      "Tests saved as endpoint_ttest.csv.\n",
      "Plot saved as interference_orientation.pdf\n",
      "Plot saved as interference_orientation_agent_idx_0.pdf\n",
      "Plot saved as interference_orientation_agent_idx_1.pdf\n",
      "Plot saved as interference_bend.pdf\n",
      "Plot saved as interference_bend_agent_idx_0.pdf\n",
      "Plot saved as interference_bend_agent_idx_1.pdf\n",
      "Plot saved as interference_spinelength.pdf\n",
      "Plot saved as interference_spinelength_agent_idx_0.pdf\n",
      "Plot saved as interference_spinelength_agent_idx_1.pdf\n",
      "Bend correction during strides for dish_0 fitted as : db=-0.676*b + -2.963\n",
      "Bend correction during strides for dish_1 fitted as : db=-0.723*b + -1.098\n",
      "Bend correction during strides for dish_2 fitted as : db=-0.688*b + -2.577\n",
      "Plot saved as bend_correction.pdf\n",
      "Plot saved as orientation_over_strides.pdf\n",
      "Plot saved as crawl_pars.pdf\n",
      "-----dish_0-stridechains----------\n",
      "range : 1.0 - 96.0, Nbouts : 235\n",
      "powerlaw exponent MLE: 1.5583133351234522\n",
      "powerlaw exponent powerlaw package: 1.1142549062279195\n",
      "exponential exponent MLE: 0.09552845528455285\n",
      "lognormal mean,std: 1.7911089295026126 1.1526561382891838\n",
      "KS plaw 0.21953084920750443\n",
      "KS exp 0.15214168086188495\n",
      "KS logn 0.08088714239849804\n",
      "\n",
      "-----dish_0-pauses----------\n",
      "range : 0.3125 - 2.0625, Nbouts : 87\n",
      "powerlaw exponent MLE: 2.486082054056513\n",
      "powerlaw exponent powerlaw package: 1.9256539083409885\n",
      "exponential exponent MLE: 2.7272727272727275\n",
      "lognormal mean,std: -0.5310624510447491 0.4902255085595878\n",
      "KS plaw 0.10984908562975126\n",
      "KS exp 0.1127789953291809\n",
      "KS logn 0.11342647194913746\n",
      "\n",
      "-----dish_1-stridechains----------\n",
      "range : 1.0 - 70.0, Nbouts : 313\n",
      "powerlaw exponent MLE: 1.640502655391899\n",
      "powerlaw exponent powerlaw package: 1.2270126794576717\n",
      "exponential exponent MLE: 0.1363834422657952\n",
      "lognormal mean,std: 1.5612737770589538 1.0460033779532458\n",
      "KS plaw 0.19369613552902287\n",
      "KS exp 0.17967380489167728\n",
      "KS logn 0.10263156436102994\n",
      "\n",
      "-----dish_1-pauses----------\n",
      "range : 0.3125 - 11.3125, Nbouts : 115\n",
      "powerlaw exponent MLE: 2.5553152688952965\n",
      "powerlaw exponent powerlaw package: 1.9666209636889307\n",
      "exponential exponent MLE: 2.277227722772277\n",
      "lognormal mean,std: -0.561016343987013 0.5704271463197198\n",
      "KS plaw 0.11295437372299866\n",
      "KS exp 0.1654554383947745\n",
      "KS logn 0.129839717559531\n",
      "\n",
      "-----dish_2-stridechains----------\n",
      "range : 1.0 - 94.0, Nbouts : 366\n",
      "powerlaw exponent MLE: 1.6933425247832663\n",
      "powerlaw exponent powerlaw package: 1.2887758756736707\n",
      "exponential exponent MLE: 0.15417017691659646\n",
      "lognormal mean,std: 1.4422885720338479 1.0445368115616973\n",
      "KS plaw 0.18817819692346105\n",
      "KS exp 0.19125868670406865\n",
      "KS logn 0.09902830533032553\n",
      "\n",
      "-----dish_2-pauses----------\n",
      "range : 0.3125 - 3.3125, Nbouts : 186\n",
      "powerlaw exponent MLE: 2.6165652101518635\n",
      "powerlaw exponent powerlaw package: 2.0013139823139667\n",
      "exponential exponent MLE: 2.8283596274472527\n",
      "lognormal mean,std: -0.5853772823388842 0.5228744009348193\n",
      "KS plaw 0.08710536681778536\n",
      "KS exp 0.15420618570113986\n",
      "KS logn 0.14481144286754377\n",
      "\n",
      "Plot saved as stridesNpauses_pdf_default.pdf\n",
      "Fits saved as bout_fits_default.csv.\n",
      "-----dish_0-stridechains----------\n",
      "range : 1.0 - 96.0, Nbouts : 235\n",
      "powerlaw exponent MLE: 1.5583133351234522\n",
      "powerlaw exponent powerlaw package: 1.1142549062279195\n",
      "exponential exponent MLE: 0.09552845528455285\n",
      "lognormal mean,std: 1.7911089295026126 1.1526561382891838\n",
      "KS plaw 0.21953084920750443\n",
      "KS exp 0.15214168086188495\n",
      "KS logn 0.08088714239849804\n",
      "\n",
      "-----dish_0-pauses----------\n",
      "range : 0.3125 - 2.0625, Nbouts : 87\n",
      "powerlaw exponent MLE: 2.486082054056513\n",
      "powerlaw exponent powerlaw package: 1.9256539083409885\n",
      "exponential exponent MLE: 2.7272727272727275\n",
      "lognormal mean,std: -0.5310624510447491 0.4902255085595878\n",
      "KS plaw 0.10984908562975126\n",
      "KS exp 0.1127789953291809\n",
      "KS logn 0.11342647194913746\n",
      "\n",
      "-----dish_1-stridechains----------\n",
      "range : 1.0 - 70.0, Nbouts : 313\n",
      "powerlaw exponent MLE: 1.640502655391899\n",
      "powerlaw exponent powerlaw package: 1.2270126794576717\n",
      "exponential exponent MLE: 0.1363834422657952\n",
      "lognormal mean,std: 1.5612737770589538 1.0460033779532458\n",
      "KS plaw 0.19369613552902287\n",
      "KS exp 0.17967380489167728\n",
      "KS logn 0.10263156436102994\n",
      "\n",
      "-----dish_1-pauses----------\n",
      "range : 0.3125 - 11.3125, Nbouts : 115\n",
      "powerlaw exponent MLE: 2.5553152688952965\n",
      "powerlaw exponent powerlaw package: 1.9666209636889307\n",
      "exponential exponent MLE: 2.277227722772277\n",
      "lognormal mean,std: -0.561016343987013 0.5704271463197198\n",
      "KS plaw 0.11295437372299866\n",
      "KS exp 0.1654554383947745\n",
      "KS logn 0.129839717559531\n",
      "\n",
      "-----dish_2-stridechains----------\n",
      "range : 1.0 - 94.0, Nbouts : 366\n",
      "powerlaw exponent MLE: 1.6933425247832663\n",
      "powerlaw exponent powerlaw package: 1.2887758756736707\n",
      "exponential exponent MLE: 0.15417017691659646\n",
      "lognormal mean,std: 1.4422885720338479 1.0445368115616973\n",
      "KS plaw 0.18817819692346105\n",
      "KS exp 0.19125868670406865\n",
      "KS logn 0.09902830533032553\n",
      "\n",
      "-----dish_2-pauses----------\n",
      "range : 0.3125 - 3.3125, Nbouts : 186\n",
      "powerlaw exponent MLE: 2.6165652101518635\n",
      "powerlaw exponent powerlaw package: 2.0013139823139667\n",
      "exponential exponent MLE: 2.8283596274472527\n",
      "lognormal mean,std: -0.5853772823388842 0.5228744009348193\n",
      "KS plaw 0.08710536681778536\n",
      "KS exp 0.15420618570113986\n",
      "KS logn 0.14481144286754377\n",
      "\n",
      "Plot saved as stridesNpauses_cdf_default.pdf\n",
      "Fits saved as bout_fits_default.csv.\n",
      "-----dish_0-stridechains----------\n",
      "range : 1.0 - 96.0, Nbouts : 235\n",
      "powerlaw exponent MLE: 1.5583133351234522\n",
      "powerlaw exponent powerlaw package: 1.1179832926254316\n",
      "exponential exponent MLE: 0.09552845528455285\n",
      "lognormal mean,std: 1.7911089295026126 1.1526561382891838\n",
      "KS plaw 0.20692581285930411\n",
      "KS exp 0.16142999599343477\n",
      "KS logn 0.0808513095334239\n",
      "\n",
      "-----dish_0-pauses----------\n",
      "range : 0.125 - 2.0625, Nbouts : 228\n",
      "powerlaw exponent MLE: 2.3758209194563276\n",
      "powerlaw exponent powerlaw package: 1.7859839338618095\n",
      "exponential exponent MLE: 4.363636363636363\n",
      "lognormal mean,std: -1.3526027606594377 0.7416187307896036\n",
      "KS plaw 0.28272062103963946\n",
      "KS exp 0.3175911052056426\n",
      "KS logn 0.1831379452814874\n",
      "\n",
      "-----dish_1-stridechains----------\n",
      "range : 1.0 - 70.0, Nbouts : 313\n",
      "powerlaw exponent MLE: 1.640502655391899\n",
      "powerlaw exponent powerlaw package: 1.2301366835377636\n",
      "exponential exponent MLE: 0.1363834422657952\n",
      "lognormal mean,std: 1.5612737770589538 1.0460033779532458\n",
      "KS plaw 0.19488395803450453\n",
      "KS exp 0.1789041514130435\n",
      "KS logn 0.10175566180912521\n",
      "\n",
      "-----dish_1-pauses----------\n",
      "range : 0.125 - 1.9375, Nbouts : 243\n",
      "powerlaw exponent MLE: 2.21923865118639\n",
      "powerlaw exponent powerlaw package: 1.6322998741282309\n",
      "exponential exponent MLE: 4.012383900928793\n",
      "lognormal mean,std: -1.2592575694714894 0.7164666543754223\n",
      "KS plaw 0.23114265792204747\n",
      "KS exp 0.26138729661511784\n",
      "KS logn 0.14446981946276227\n",
      "\n",
      "-----dish_2-stridechains----------\n",
      "range : 1.0 - 102.0, Nbouts : 367\n",
      "powerlaw exponent MLE: 1.6891985255462294\n",
      "powerlaw exponent powerlaw package: 1.2869416305711812\n",
      "exponential exponent MLE: 0.1482828282828283\n",
      "lognormal mean,std: 1.4509607361789443 1.056224311721264\n",
      "KS plaw 0.17232030435282852\n",
      "KS exp 0.19488268852175317\n",
      "KS logn 0.09738113419920152\n",
      "\n",
      "-----dish_2-pauses----------\n",
      "range : 0.125 - 1.8125, Nbouts : 364\n",
      "powerlaw exponent MLE: 2.1919382435272237\n",
      "powerlaw exponent powerlaw package: 1.6030153829311025\n",
      "exponential exponent MLE: 3.874916833000665\n",
      "lognormal mean,std: -1.2404719009031742 0.7234784452338894\n",
      "KS plaw 0.2368049344215869\n",
      "KS exp 0.26666276427362834\n",
      "KS logn 0.1523872138116686\n",
      "\n",
      "Plot saved as stridesNpauses_pdf_restricted.pdf\n",
      "Fits saved as bout_fits_restricted.csv.\n",
      "-----dish_0-stridechains----------\n",
      "range : 1.0 - 96.0, Nbouts : 235\n",
      "powerlaw exponent MLE: 1.5583133351234522\n",
      "powerlaw exponent powerlaw package: 1.1179832926254316\n",
      "exponential exponent MLE: 0.09552845528455285\n",
      "lognormal mean,std: 1.7911089295026126 1.1526561382891838\n",
      "KS plaw 0.20692581285930411\n",
      "KS exp 0.16142999599343477\n",
      "KS logn 0.0808513095334239\n",
      "\n",
      "-----dish_0-pauses----------\n",
      "range : 0.125 - 2.0625, Nbouts : 228\n",
      "powerlaw exponent MLE: 2.3758209194563276\n",
      "powerlaw exponent powerlaw package: 1.7859839338618095\n",
      "exponential exponent MLE: 4.363636363636363\n",
      "lognormal mean,std: -1.3526027606594377 0.7416187307896036\n",
      "KS plaw 0.28272062103963946\n",
      "KS exp 0.3175911052056426\n",
      "KS logn 0.1831379452814874\n",
      "\n",
      "-----dish_1-stridechains----------\n",
      "range : 1.0 - 70.0, Nbouts : 313\n",
      "powerlaw exponent MLE: 1.640502655391899\n",
      "powerlaw exponent powerlaw package: 1.2301366835377636\n",
      "exponential exponent MLE: 0.1363834422657952\n",
      "lognormal mean,std: 1.5612737770589538 1.0460033779532458\n",
      "KS plaw 0.19488395803450453\n",
      "KS exp 0.1789041514130435\n",
      "KS logn 0.10175566180912521\n",
      "\n",
      "-----dish_1-pauses----------\n",
      "range : 0.125 - 1.9375, Nbouts : 243\n",
      "powerlaw exponent MLE: 2.21923865118639\n",
      "powerlaw exponent powerlaw package: 1.6322998741282309\n",
      "exponential exponent MLE: 4.012383900928793\n",
      "lognormal mean,std: -1.2592575694714894 0.7164666543754223\n",
      "KS plaw 0.23114265792204747\n",
      "KS exp 0.26138729661511784\n",
      "KS logn 0.14446981946276227\n",
      "\n",
      "-----dish_2-stridechains----------\n",
      "range : 1.0 - 102.0, Nbouts : 367\n",
      "powerlaw exponent MLE: 1.6891985255462294\n",
      "powerlaw exponent powerlaw package: 1.2869416305711812\n",
      "exponential exponent MLE: 0.1482828282828283\n",
      "lognormal mean,std: 1.4509607361789443 1.056224311721264\n",
      "KS plaw 0.17232030435282852\n",
      "KS exp 0.19488268852175317\n",
      "KS logn 0.09738113419920152\n",
      "\n",
      "-----dish_2-pauses----------\n",
      "range : 0.125 - 1.8125, Nbouts : 364\n",
      "powerlaw exponent MLE: 2.1919382435272237\n",
      "powerlaw exponent powerlaw package: 1.6030153829311025\n",
      "exponential exponent MLE: 3.874916833000665\n",
      "lognormal mean,std: -1.2404719009031742 0.7234784452338894\n",
      "KS plaw 0.2368049344215869\n",
      "KS exp 0.26666276427362834\n",
      "KS logn 0.1523872138116686\n",
      "\n",
      "Plot saved as stridesNpauses_cdf_restricted.pdf\n",
      "Fits saved as bout_fits_restricted.csv.\n",
      "-----dish_0-stridechains----------\n",
      "range : 1.0 - 137.0, Nbouts : 236\n",
      "powerlaw exponent MLE: 1.554211020625342\n",
      "powerlaw exponent powerlaw package: 1.1617879157594408\n",
      "exponential exponent MLE: 0.09090909090909091\n",
      "lognormal mean,std: 1.8043668616904323 1.1680295559506637\n",
      "KS plaw 0.217147796963562\n",
      "KS exp 0.1755760702345467\n",
      "KS logn 0.07859251507788473\n",
      "\n",
      "-----dish_0-pauses----------\n",
      "range : 0.125 - 2.0625, Nbouts : 228\n",
      "powerlaw exponent MLE: 2.3758209194563276\n",
      "powerlaw exponent powerlaw package: 1.9907940819721688\n",
      "exponential exponent MLE: 4.363636363636363\n",
      "lognormal mean,std: -1.3526027606594377 0.7416187307896036\n",
      "KS plaw 0.24840086469294687\n",
      "KS exp 0.30247590322192563\n",
      "KS logn 0.19106066917921705\n",
      "\n",
      "-----dish_1-stridechains----------\n",
      "range : 1.0 - 129.0, Nbouts : 314\n",
      "powerlaw exponent MLE: 1.6362218895957015\n",
      "powerlaw exponent powerlaw package: 1.2661545169097979\n",
      "exponential exponent MLE: 0.12959141560049525\n",
      "lognormal mean,std: 1.5717786771459052 1.0607445800527453\n",
      "KS plaw 0.1859382340510226\n",
      "KS exp 0.19152280119625908\n",
      "KS logn 0.10894032923819275\n",
      "\n",
      "-----dish_1-pauses----------\n",
      "range : 0.125 - 11.3125, Nbouts : 245\n",
      "powerlaw exponent MLE: 2.1812502280943757\n",
      "powerlaw exponent powerlaw package: 1.8519858198837436\n",
      "exponential exponent MLE: 3.2157506152584086\n",
      "lognormal mean,std: -1.2328808585862747 0.7715880270582776\n",
      "KS plaw 0.20062698341287855\n",
      "KS exp 0.25227325560751035\n",
      "KS logn 0.13628426533520505\n",
      "\n",
      "-----dish_2-stridechains----------\n",
      "range : 1.0 - 102.0, Nbouts : 367\n",
      "powerlaw exponent MLE: 1.6891985255462294\n",
      "powerlaw exponent powerlaw package: 1.3240578091110153\n",
      "exponential exponent MLE: 0.1482828282828283\n",
      "lognormal mean,std: 1.4509607361789443 1.056224311721264\n",
      "KS plaw 0.1859693804127367\n",
      "KS exp 0.20302090490746805\n",
      "KS logn 0.10393965930330085\n",
      "\n",
      "-----dish_2-pauses----------\n",
      "range : 0.125 - 3.3125, Nbouts : 369\n",
      "powerlaw exponent MLE: 2.1525254441963764\n",
      "powerlaw exponent powerlaw package: 1.8299619389112842\n",
      "exponential exponent MLE: 3.4976303317535544\n",
      "lognormal mean,std: -1.2117817385617609 0.7593465286013132\n",
      "KS plaw 0.20543692310204853\n",
      "KS exp 0.252661384048239\n",
      "KS logn 0.1373400460064766\n",
      "\n",
      "Plot saved as stridesNpauses_pdf_broad.pdf\n",
      "Fits saved as bout_fits_broad.csv.\n",
      "-----dish_0-stridechains----------\n",
      "range : 1.0 - 137.0, Nbouts : 236\n",
      "powerlaw exponent MLE: 1.554211020625342\n",
      "powerlaw exponent powerlaw package: 1.1617879157594408\n",
      "exponential exponent MLE: 0.09090909090909091\n",
      "lognormal mean,std: 1.8043668616904323 1.1680295559506637\n",
      "KS plaw 0.217147796963562\n",
      "KS exp 0.1755760702345467\n",
      "KS logn 0.07859251507788473\n",
      "\n",
      "-----dish_0-pauses----------\n",
      "range : 0.125 - 2.0625, Nbouts : 228\n",
      "powerlaw exponent MLE: 2.3758209194563276\n",
      "powerlaw exponent powerlaw package: 1.9907940819721688\n",
      "exponential exponent MLE: 4.363636363636363\n",
      "lognormal mean,std: -1.3526027606594377 0.7416187307896036\n",
      "KS plaw 0.24840086469294687\n",
      "KS exp 0.30247590322192563\n",
      "KS logn 0.19106066917921705\n",
      "\n",
      "-----dish_1-stridechains----------\n",
      "range : 1.0 - 129.0, Nbouts : 314\n",
      "powerlaw exponent MLE: 1.6362218895957015\n",
      "powerlaw exponent powerlaw package: 1.2661545169097979\n",
      "exponential exponent MLE: 0.12959141560049525\n",
      "lognormal mean,std: 1.5717786771459052 1.0607445800527453\n",
      "KS plaw 0.1859382340510226\n",
      "KS exp 0.19152280119625908\n",
      "KS logn 0.10894032923819275\n",
      "\n",
      "-----dish_1-pauses----------\n",
      "range : 0.125 - 11.3125, Nbouts : 245\n",
      "powerlaw exponent MLE: 2.1812502280943757\n",
      "powerlaw exponent powerlaw package: 1.8519858198837436\n",
      "exponential exponent MLE: 3.2157506152584086\n",
      "lognormal mean,std: -1.2328808585862747 0.7715880270582776\n",
      "KS plaw 0.20062698341287855\n",
      "KS exp 0.25227325560751035\n",
      "KS logn 0.13628426533520505\n",
      "\n",
      "-----dish_2-stridechains----------\n",
      "range : 1.0 - 102.0, Nbouts : 367\n",
      "powerlaw exponent MLE: 1.6891985255462294\n",
      "powerlaw exponent powerlaw package: 1.3240578091110153\n",
      "exponential exponent MLE: 0.1482828282828283\n",
      "lognormal mean,std: 1.4509607361789443 1.056224311721264\n",
      "KS plaw 0.1859693804127367\n",
      "KS exp 0.20302090490746805\n",
      "KS logn 0.10393965930330085\n",
      "\n",
      "-----dish_2-pauses----------\n",
      "range : 0.125 - 3.3125, Nbouts : 369\n",
      "powerlaw exponent MLE: 2.1525254441963764\n",
      "powerlaw exponent powerlaw package: 1.8299619389112842\n",
      "exponential exponent MLE: 3.4976303317535544\n",
      "lognormal mean,std: -1.2117817385617609 0.7593465286013132\n",
      "KS plaw 0.20543692310204853\n",
      "KS exp 0.252661384048239\n",
      "KS logn 0.1373400460064766\n",
      "\n",
      "Plot saved as stridesNpauses_cdf_broad.pdf\n",
      "Fits saved as bout_fits_broad.csv.\n",
      "Plot saved as angular_pars.pdf\n",
      "Plot saved as turns.pdf\n",
      "Plot saved as turn_duration.pdf\n",
      "Plot saved as scaled_dispersion_0-40.pdf\n",
      "Plot saved as dispersion_0-40.pdf\n",
      "Concatenated pdfs saved as /home/panos/Desktop/flyworld/lib/stor/../../data/TestGroup/plots/final.pdf\n"
     ]
    }
   ],
   "source": [
    "!python process.py TestGroup anal -nam dish_0 dish_1 dish_2"
   ]
  },
  {
   "cell_type": "markdown",
   "metadata": {},
   "source": [
    "When multiple datasets are compared, the plots are stored in the parent DataGroup plot folder."
   ]
  },
  {
   "cell_type": "code",
   "execution_count": 19,
   "metadata": {},
   "outputs": [
    {
     "name": "stdout",
     "output_type": "stream",
     "text": [
      "angular_pars.pdf\t\t   interference_orientation_agent_idx_0.pdf\n",
      "bend_correction.pdf\t\t   interference_orientation_agent_idx_1.pdf\n",
      "bout_fits\t\t\t   interference_spinelength.pdf\n",
      "crawl_pars.pdf\t\t\t   interference_spinelength_agent_idx_0.pdf\n",
      "dispersion\t\t\t   interference_spinelength_agent_idx_1.pdf\n",
      "endpoint_params_full.pdf\t   orientation_over_strides.pdf\n",
      "endpoint_params_limited.pdf\t   stridesNpauses_cdf_broad.pdf\n",
      "endpoint_params_minimal.pdf\t   stridesNpauses_cdf_default.pdf\n",
      "endpoint_ttest.csv\t\t   stridesNpauses_cdf_restricted.pdf\n",
      "final.pdf\t\t\t   stridesNpauses_pdf_broad.pdf\n",
      "interference_bend.pdf\t\t   stridesNpauses_pdf_default.pdf\n",
      "interference_bend_agent_idx_0.pdf  stridesNpauses_pdf_restricted.pdf\n",
      "interference_bend_agent_idx_1.pdf  turn_duration.pdf\n",
      "interference_orientation.pdf\t   turns.pdf\n"
     ]
    }
   ],
   "source": [
    "!ls ../data/TestGroup/plots"
   ]
  },
  {
   "cell_type": "markdown",
   "metadata": {},
   "source": [
    "Again let's have a look at some comparative plots. \n",
    "\n",
    "The distribution of crawl-runs and crawl-pauses."
   ]
  },
  {
   "cell_type": "code",
   "execution_count": 20,
   "metadata": {},
   "outputs": [],
   "source": [
    "!evince ../data/TestGroup/plots/stridesNpauses_cdf_broad.pdf"
   ]
  },
  {
   "cell_type": "markdown",
   "metadata": {},
   "source": [
    "The dispersion from origin for the first 40 seconds (scal to the larva-length)."
   ]
  },
  {
   "cell_type": "code",
   "execution_count": 21,
   "metadata": {},
   "outputs": [],
   "source": [
    "!evince ../data/TestGroup/plots/dispersion/scaled_dispersion_0-40.pdf"
   ]
  },
  {
   "cell_type": "markdown",
   "metadata": {},
   "source": [
    "The linear velocity and angular front and rear orientation velocities phasically locked to the peristaltic stride cycle."
   ]
  },
  {
   "cell_type": "code",
   "execution_count": 22,
   "metadata": {},
   "outputs": [],
   "source": [
    "!evince ../data/TestGroup/plots/interference_orientation.pdf"
   ]
  },
  {
   "cell_type": "markdown",
   "metadata": {},
   "source": [
    "### **Visualization**\n",
    "-----------------"
   ]
  },
  {
   "cell_type": "markdown",
   "metadata": {},
   "source": [
    "We can visualize a dataset using the **vis** action.  \n",
    "\n",
    "**IMPORTANT** : The same flags can be used for visualizing simulations when running *exp_run.py*"
   ]
  },
  {
   "cell_type": "markdown",
   "metadata": {},
   "source": [
    "#### **Video and image options**"
   ]
  },
  {
   "cell_type": "markdown",
   "metadata": {},
   "source": [
    "Let's generate a video of dish 1 (dish_1) using the **-vid** flag"
   ]
  },
  {
   "cell_type": "code",
   "execution_count": 23,
   "metadata": {
    "collapsed": true,
    "jupyter": {
     "outputs_hidden": true
    }
   },
   "outputs": [
    {
     "name": "stdout",
     "output_type": "stream",
     "text": [
      "pygame 1.9.6\n",
      "Hello from the pygame community. https://www.pygame.org/contribute.html\n",
      "Loaded dataset dish_1 with existing configuration\n",
      "Loading data from /home/panos/Desktop/flyworld/lib/stor/../../data/TestGroup/processed/dish_1/data/step_data.csv\n",
      "Step data loaded according to types dictionary\n",
      "Data loaded successfully from stored csv files.\n",
      "1 datasets loaded.\n",
      "Screen opened\n",
      "Screen closed\n",
      "Traceback (most recent call last):\n",
      "  File \"process.py\", line 44, in <module>\n",
      "    visualize_datasets(DataGroup_id, **data_kwargs, vis_kwargs = {**vis_kwargs, **replay_kwargs})\n",
      "  File \"../lib/stor/managing.py\", line 147, in visualize_datasets\n",
      "    d.visualize(**vis_kwargs)\n",
      "  File \"../lib/stor/larva_dataset.py\", line 1005, in visualize\n",
      "    replay_env.run()\n",
      "  File \"../lib/model/envs/_larvaworld.py\", line 372, in run\n",
      "    self.render(background_motion=background_motion)\n",
      "  File \"../lib/model/envs/_larvaworld.py\", line 289, in render\n",
      "    self._screen.draw_polygon(self.space_edges, color=self.screen_color)\n",
      "AttributeError: 'NoneType' object has no attribute 'draw_polygon'\n"
     ]
    }
   ],
   "source": [
    "!python process.py TestGroup vis -nam dish_1 -vid"
   ]
  },
  {
   "cell_type": "markdown",
   "metadata": {},
   "source": [
    "Or a final image of the dish (**-img final**) or just (**-img**)"
   ]
  },
  {
   "cell_type": "code",
   "execution_count": null,
   "metadata": {},
   "outputs": [],
   "source": [
    "!python process.py TestGroup vis -nam dish_1 -img"
   ]
  },
  {
   "cell_type": "markdown",
   "metadata": {},
   "source": [
    "Or snapshots at regular intervals (**-img snapshots**)"
   ]
  },
  {
   "cell_type": "code",
   "execution_count": null,
   "metadata": {},
   "outputs": [],
   "source": [
    "!python process.py TestGroup vis -nam dish_1 -img snapshots"
   ]
  },
  {
   "cell_type": "markdown",
   "metadata": {},
   "source": [
    "We can collapse the whole video on a single image by overlapping all subsequent images (**-img overlap**)  \n",
    "\n",
    "See below in the replay section for a nice application of this."
   ]
  },
  {
   "cell_type": "markdown",
   "metadata": {},
   "source": [
    "#### **Trajectories**"
   ]
  },
  {
   "cell_type": "markdown",
   "metadata": {},
   "source": [
    "We can visualize the full trajectories (**-trj**)"
   ]
  },
  {
   "cell_type": "code",
   "execution_count": null,
   "metadata": {},
   "outputs": [],
   "source": [
    "!python process.py TestGroup vis -nam dish_1 -img -trj"
   ]
  },
  {
   "cell_type": "markdown",
   "metadata": {},
   "source": [
    "Or show trajectories of 10 seconds (**-trj 10**). Here a video of the merged dataset."
   ]
  },
  {
   "cell_type": "code",
   "execution_count": null,
   "metadata": {},
   "outputs": [],
   "source": [
    "!python process.py TestGroup vis -nam merged -vid -trj 10"
   ]
  },
  {
   "cell_type": "markdown",
   "metadata": {},
   "source": [
    "#### **Colors**"
   ]
  },
  {
   "cell_type": "markdown",
   "metadata": {},
   "source": [
    " We can color each larva with a unique random color (**-rnd**)"
   ]
  },
  {
   "cell_type": "code",
   "execution_count": null,
   "metadata": {},
   "outputs": [],
   "source": [
    "!python process.py TestGroup  vis -nam merged -vid -trj 10 -rnd"
   ]
  },
  {
   "cell_type": "markdown",
   "metadata": {},
   "source": [
    "We can also color the larvae according to the annotated behavior **(-beh)**:\n",
    "- green : Peristaltic stride\n",
    "- light green flash : End of peristaltic stride\n",
    "- red : Pause of crawling\n",
    "- gold : Feeding motion (only applicable to simulated data\n",
    "- black (or default color) : Not annotated"
   ]
  },
  {
   "cell_type": "code",
   "execution_count": null,
   "metadata": {},
   "outputs": [],
   "source": [
    "!python process.py TestGroup -nam dish_1 vis -vid -trj 10 -beh"
   ]
  },
  {
   "cell_type": "markdown",
   "metadata": {},
   "source": [
    "We can also visualize on a black background **(-blk)**"
   ]
  },
  {
   "cell_type": "code",
   "execution_count": null,
   "metadata": {},
   "outputs": [],
   "source": [
    "!python process.py TestGroup -nam dish_1 vis -vid -blk"
   ]
  },
  {
   "cell_type": "markdown",
   "metadata": {},
   "source": [
    "### Replay\n",
    "-----------------"
   ]
  },
  {
   "cell_type": "markdown",
   "metadata": {},
   "source": [
    "#### **Specific larvae**"
   ]
  },
  {
   "cell_type": "markdown",
   "metadata": {},
   "source": [
    "We can select specific larvae by using the **-ids** flag plus the unique ids of the larvae or their indexes in the dataset.  \n",
    "Here we select 3 specific larvae (**-ids 2 6 12**) of the merged dataset."
   ]
  },
  {
   "cell_type": "code",
   "execution_count": null,
   "metadata": {},
   "outputs": [],
   "source": [
    "!python process.py TestGroup vis -nam merged -vid -ids 2 6 12"
   ]
  },
  {
   "cell_type": "markdown",
   "metadata": {},
   "source": [
    "#### **Dynamic trajectories**"
   ]
  },
  {
   "cell_type": "markdown",
   "metadata": {},
   "source": [
    "We can dynamically color trajectories according to :  \n",
    "- linear velocity (**-dyn lin**)\n",
    "- angular velocity (**-dyn ang**)\n",
    "\n",
    "Here we illustrate linear velocity. We also color larvae according to behavioral annotation (see *Visualization*)"
   ]
  },
  {
   "cell_type": "code",
   "execution_count": null,
   "metadata": {},
   "outputs": [],
   "source": [
    "!python process.py TestGroup vis -nam merged -vid -ids 2 3 4 -trj -dyn lin -beh"
   ]
  },
  {
   "cell_type": "markdown",
   "metadata": {},
   "source": [
    "And a final image of a single trajectory illustrating the angular (front orientation) velocity "
   ]
  },
  {
   "cell_type": "code",
   "execution_count": null,
   "metadata": {},
   "outputs": [],
   "source": [
    "!python process.py TestGroup vis -nam merged -img -ids 11 -trj -dyn ang"
   ]
  },
  {
   "cell_type": "markdown",
   "metadata": {},
   "source": [
    "#### **Trajectory transposition**"
   ]
  },
  {
   "cell_type": "markdown",
   "metadata": {},
   "source": [
    "We can transpose/align the larva tracks using the **-aln** flag.  \n",
    "The larva tracks are recomputed before visualization.  \n",
    "The following modes are available :  \n",
    "- **origin** : Each track originates from the exact center of the arena. Relative track relations are lost.    \n",
    "- **center** : Each track is centered around the arena center. Relative track relations are lost.  \n",
    "- **arena**  : All tracks are centered to the arena. Relative track relations are preserved.  \n",
    "\n",
    "Let's make all trajectories start from the same origin at the cenetr of the screen (**-aln origin**) to visualize dispersion over time."
   ]
  },
  {
   "cell_type": "code",
   "execution_count": null,
   "metadata": {},
   "outputs": [],
   "source": [
    "!python process.py TestGroup vis -nam merged -vid -trj -aln origin"
   ]
  },
  {
   "cell_type": "markdown",
   "metadata": {},
   "source": [
    "We can centralize the trajectory to the center of the screen using the alignment flag (**-aln center**)"
   ]
  },
  {
   "cell_type": "code",
   "execution_count": null,
   "metadata": {},
   "outputs": [],
   "source": [
    "!python process.py TestGroup vis -nam merged -img -ids 11 -trj -dyn ang -aln center"
   ]
  },
  {
   "cell_type": "markdown",
   "metadata": {},
   "source": [
    "#### **Arena dimensions**"
   ]
  },
  {
   "cell_type": "markdown",
   "metadata": {},
   "source": [
    "The arena dimensions are set via the - **-dim** flag.   \n",
    "- If a single float follows the flag, a circular dish of given radius.  \n",
    "- If two floats follow the flag, a rectangular arena of given dimensions. \n",
    "\n",
    "We can now use a rectangular arena 40x50 mm to zoom in (**-dim 0.04 0.05**) on our previous single trajectory.\n",
    "\n",
    "**IMPORTANT** : If the trajectory exceeds the arena dimensions an error will be generated."
   ]
  },
  {
   "cell_type": "code",
   "execution_count": null,
   "metadata": {},
   "outputs": [],
   "source": [
    "!python process.py TestGroup vis -nam merged -img -ids 11 -trj -dyn lin -aln center -dim 0.04 0.05 "
   ]
  },
  {
   "cell_type": "markdown",
   "metadata": {},
   "source": [
    "Or watch the respective video"
   ]
  },
  {
   "cell_type": "code",
   "execution_count": null,
   "metadata": {},
   "outputs": [],
   "source": [
    "!python process.py TestGroup vis -nam merged -vid -ids 11 -trj -dyn ang -aln center -dim 0.04 0.05 -beh"
   ]
  },
  {
   "cell_type": "markdown",
   "metadata": {},
   "source": [
    "#### **Larva fixation**"
   ]
  },
  {
   "cell_type": "markdown",
   "metadata": {},
   "source": [
    "We can also fixate a midline point of a single larva to the center of the screen.  \n",
    "This allows us to have the larva constantly under focus.  \n",
    "A background is generated that moves accordingly.  \n",
    "\n",
    "Let's fixate the larva's 8th midline point (starting from the 0th being the head).  **(-fix 8)**  \n",
    "Of course we can now use an even smaller arena. Here a dish of radius 0.008 mm **(-dim 0.008)**"
   ]
  },
  {
   "cell_type": "code",
   "execution_count": null,
   "metadata": {},
   "outputs": [],
   "source": [
    "!python process.py TestGroup vis -nam merged -vid -ids 11 -fix 8 -dim 0.008"
   ]
  },
  {
   "cell_type": "markdown",
   "metadata": {},
   "source": [
    "We can fixate the whole segment above or below the fixated point by typing -1 (above segment) or 1 (below segment) after its index.  \n",
    "Now the larva is always facing up (with 1) or down (with -1)\n",
    "\n",
    "Let's fixate the segment above **(-fix 8 -1)**"
   ]
  },
  {
   "cell_type": "code",
   "execution_count": null,
   "metadata": {},
   "outputs": [],
   "source": [
    "!python process.py TestGroup vis -nam merged -vid -ids 11 -fix 8 -1 -dim 0.008"
   ]
  },
  {
   "cell_type": "markdown",
   "metadata": {},
   "source": [
    "#### **Midline & contour**"
   ]
  },
  {
   "cell_type": "markdown",
   "metadata": {},
   "source": [
    "Let's try the same without the midline **(-mid)**"
   ]
  },
  {
   "cell_type": "code",
   "execution_count": null,
   "metadata": {},
   "outputs": [],
   "source": [
    "!python process.py TestGroup vis -nam merged -vid -ids 11 -fix 8 -1 -dim 0.008 -mid"
   ]
  },
  {
   "cell_type": "markdown",
   "metadata": {},
   "source": [
    " Or without the contour **(-con)**."
   ]
  },
  {
   "cell_type": "code",
   "execution_count": null,
   "metadata": {},
   "outputs": [],
   "source": [
    "!python process.py TestGroup vis -nam merged -vid -ids 11 -fix 8 -1 -dim 0.008 -con"
   ]
  },
  {
   "cell_type": "markdown",
   "metadata": {},
   "source": [
    "Now we can collapse the whole video on a single image by overlapping all subsequent images **(-img overlap)**"
   ]
  },
  {
   "cell_type": "code",
   "execution_count": null,
   "metadata": {},
   "outputs": [],
   "source": [
    "!python process.py TestGroup vis -nam merged -img overlap -ids 11 -fix 8 -1 -dim 0.008 -con"
   ]
  },
  {
   "cell_type": "markdown",
   "metadata": {},
   "source": [
    "#### **Time slice**"
   ]
  },
  {
   "cell_type": "markdown",
   "metadata": {},
   "source": [
    "We can also visualize a specific time slice of the dataset.\n",
    "We have to define a range in timesteps (easy to compute using the framerate of the tracking. For this dataset it is 16 fps)\n",
    "\n",
    "Let's visualize the first dish  **(-idx 1)** for the range 320 to 640 timesteps (20-40 seconds) **(-tkr 320 640)**"
   ]
  },
  {
   "cell_type": "code",
   "execution_count": null,
   "metadata": {},
   "outputs": [],
   "source": [
    "!python process.py TestGroup vis -nam dish_1 -vid -tkr 320 640"
   ]
  },
  {
   "cell_type": "markdown",
   "metadata": {},
   "source": [
    "## **Simulations**"
   ]
  },
  {
   "cell_type": "markdown",
   "metadata": {},
   "source": [
    "We always need to define the type of experiment to run.   \n",
    "We can optionally set a number of parameters. If not set the default values for the type of experiment will be used :\n",
    "- **-id** : Simulation id\n",
    "- **-N** : Number of larvae.\n",
    "- **-t** : Simulation duration in minutes"
   ]
  },
  {
   "cell_type": "markdown",
   "metadata": {},
   "source": [
    "### **Single runs**"
   ]
  },
  {
   "cell_type": "markdown",
   "metadata": {},
   "source": [
    "Single simulations of behavioral experiments can be run using the **exp_run.py**.  \n",
    "\n",
    "We can optionally run the relevant analysis on the simulated data once the simulation is finished by using the **-a** flag.  \n",
    "We can use all flags descibed in *Visualization*.  \n",
    "\n",
    "Let's check the help :"
   ]
  },
  {
   "cell_type": "code",
   "execution_count": null,
   "metadata": {},
   "outputs": [],
   "source": [
    "!python exp_run.py -h"
   ]
  },
  {
   "cell_type": "markdown",
   "metadata": {},
   "source": [
    "The collected simulation dataset is stored at the **larvaworld/data/simulation/single_runs** folder under the respective experiment type and simulation id."
   ]
  },
  {
   "cell_type": "markdown",
   "metadata": {},
   "source": [
    "Let's run a **dish** experiment. Larvae freely explore a plain dish. No odors or food are present. "
   ]
  },
  {
   "cell_type": "code",
   "execution_count": null,
   "metadata": {},
   "outputs": [],
   "source": [
    "!python exp_run.py dish -N 20 -t 3.0 -vid"
   ]
  },
  {
   "cell_type": "markdown",
   "metadata": {},
   "source": [
    "#### **Chemotaxis**"
   ]
  },
  {
   "cell_type": "markdown",
   "metadata": {},
   "source": [
    "There are 3 available experiments involving chemotaxis :\n",
    "- **chemotax** : Larvae start on the left of the arena facing right. An odor source exists at the other side.\n",
    "- **chemorbit** : Larvae start on the vincinity of an odor source.\n",
    "- **odor_pref** : Larvae start on the middle of the arena. Odor sources of different valence exist on either side."
   ]
  },
  {
   "cell_type": "code",
   "execution_count": null,
   "metadata": {},
   "outputs": [],
   "source": [
    "!python exp_run.py chemotax -N 20 -t 3.0 -vid"
   ]
  },
  {
   "cell_type": "markdown",
   "metadata": {},
   "source": [
    "Let's run a **chemorbit** experiment on the background and apply analysis :"
   ]
  },
  {
   "cell_type": "code",
   "execution_count": null,
   "metadata": {},
   "outputs": [],
   "source": [
    "!python exp_run.py chemorbit -N 20 -t 3.0 -img -trj -rnd -a -id my_chemorbit"
   ]
  },
  {
   "cell_type": "markdown",
   "metadata": {},
   "source": [
    "Let's locate the simulated dataset :"
   ]
  },
  {
   "cell_type": "code",
   "execution_count": null,
   "metadata": {},
   "outputs": [],
   "source": [
    "!ls ../data/simulation/single_runs/chemorbit\n",
    "!ls ../data/simulation/single_runs/chemorbit/my_chemorbit/plots"
   ]
  },
  {
   "cell_type": "markdown",
   "metadata": {},
   "source": [
    "Let's see the odorscape ..."
   ]
  },
  {
   "cell_type": "code",
   "execution_count": null,
   "metadata": {},
   "outputs": [],
   "source": [
    "!eog ../data/simulation/single_runs/chemorbit/my_chemorbit/plots/Random_odor_ID_odorscape.png"
   ]
  },
  {
   "cell_type": "markdown",
   "metadata": {},
   "source": [
    "... the final image ..."
   ]
  },
  {
   "cell_type": "code",
   "execution_count": null,
   "metadata": {},
   "outputs": [],
   "source": [
    "!eog ../data/simulation/single_runs/chemorbit/my_chemorbit/visuals/my_chemorbit_0.png"
   ]
  },
  {
   "cell_type": "markdown",
   "metadata": {},
   "source": [
    "... and the sensed odor concentration across time.  \n",
    "Red denotes a single larva. Grey denotes the median and quantiles."
   ]
  },
  {
   "cell_type": "code",
   "execution_count": null,
   "metadata": {},
   "outputs": [],
   "source": [
    "!evince ../data/simulation/single_runs/chemorbit/my_chemorbit/plots/odor_concentration.pdf"
   ]
  },
  {
   "cell_type": "markdown",
   "metadata": {},
   "source": [
    "Let's now run an **odor_pref** experiment.  \n",
    "\n",
    "The analysis immediately computes and prints the Preference Index"
   ]
  },
  {
   "cell_type": "code",
   "execution_count": null,
   "metadata": {},
   "outputs": [],
   "source": [
    "!python exp_run.py odor_pref -N 20 -t 3.0 -img -a -id my_odor_pref"
   ]
  },
  {
   "cell_type": "markdown",
   "metadata": {},
   "source": [
    "#### **Feeding**"
   ]
  },
  {
   "cell_type": "markdown",
   "metadata": {},
   "source": [
    "There are 4 available experiments involving feeding :\n",
    "- **feed_grid** : Food sources are aranged in a rectangular grid.\n",
    "- **feed_scatter** : Circular food sources are randomly placed in the arena.\n",
    "- **feed_patchy** : Circular food patches are placed in a circle.\n",
    "- **growth** : The larvae start as first instars and grow in size as they eat."
   ]
  },
  {
   "cell_type": "markdown",
   "metadata": {},
   "source": [
    "Let's run a **feed_grid** experiment.  Note the colors illustrating behavior.  "
   ]
  },
  {
   "cell_type": "code",
   "execution_count": null,
   "metadata": {},
   "outputs": [],
   "source": [
    "!python exp_run.py feed_grid -N 5 -t 3.0 -vid -beh"
   ]
  },
  {
   "cell_type": "markdown",
   "metadata": {},
   "source": [
    "Here is a **feed_patchy** experiment, saving the final image"
   ]
  },
  {
   "cell_type": "code",
   "execution_count": null,
   "metadata": {},
   "outputs": [],
   "source": [
    "!python exp_run.py feed_patchy -N 20 -t 10.0 -img -trj -rnd -id my_feed_patchy"
   ]
  },
  {
   "cell_type": "markdown",
   "metadata": {},
   "source": [
    "Let's see the odorscape and the final image :"
   ]
  },
  {
   "cell_type": "code",
   "execution_count": null,
   "metadata": {},
   "outputs": [],
   "source": [
    "!eog ../data/simulation/single_runs/feed_patchy/my_feed_patchy/plots/Random_odor_ID_odorscape.png\n",
    "!eog ../data/simulation/single_runs/feed_patchy/my_feed_patchy/visuals/my_feed_patchy_0.png"
   ]
  },
  {
   "cell_type": "markdown",
   "metadata": {},
   "source": [
    "Here is a **growth** experiment over 1 day (1440 minutes).  \n",
    "We perform the analysis to see the length and mass over time.  "
   ]
  },
  {
   "cell_type": "code",
   "execution_count": null,
   "metadata": {},
   "outputs": [],
   "source": [
    "!python exp_run.py growth -N 1 -t 1440.0 -id my_growth -a"
   ]
  },
  {
   "cell_type": "markdown",
   "metadata": {},
   "source": [
    "Let's see the graphs"
   ]
  },
  {
   "cell_type": "code",
   "execution_count": null,
   "metadata": {},
   "outputs": [],
   "source": [
    "!evince ../data/simulation/single_runs/growth/my_growth/plots/length_timeplot.pdf\n",
    "!evince ../data/simulation/single_runs/growth/my_growth/plots/mass_timeplot.pdf"
   ]
  },
  {
   "cell_type": "markdown",
   "metadata": {},
   "source": [
    "If you are patient enough run the simulation in video mode and watch the larva grow over time :"
   ]
  },
  {
   "cell_type": "code",
   "execution_count": null,
   "metadata": {},
   "outputs": [],
   "source": [
    "!python exp_run.py growth -vid -N 1 -t 1440.0 -beh"
   ]
  },
  {
   "cell_type": "markdown",
   "metadata": {},
   "source": [
    "#### **Comparison to empirical data**"
   ]
  },
  {
   "cell_type": "markdown",
   "metadata": {},
   "source": [
    "Let's run a **dispersion** experiment. Larvae freely explore a big arena starting from the exact same point at the center of the screen. No odors or food are present. \n",
    "\n",
    "Let's just produce a final image of the full trajectories in random colors."
   ]
  },
  {
   "cell_type": "code",
   "execution_count": null,
   "metadata": {},
   "outputs": [],
   "source": [
    "!python exp_run.py dispersion -N 20 -t 2.0 -img -trj -rnd"
   ]
  },
  {
   "cell_type": "markdown",
   "metadata": {},
   "source": [
    "The **dispersion** experiment affords extensive analysis including comparison to the existing **reference** empirical dataset.  \n",
    "During the analysis the data are enriched as described above in **Enrichment** and analysed as described in **Analysis**\n",
    "\n",
    "Now let's run the experiment again with the analysis.  \n",
    "We will also provide a simulation id to easily locate the results afterwards."
   ]
  },
  {
   "cell_type": "code",
   "execution_count": null,
   "metadata": {},
   "outputs": [],
   "source": [
    "!python exp_run.py dispersion -N 5 -t 2.0 -img -trj -rnd -a -id my_sim"
   ]
  },
  {
   "cell_type": "markdown",
   "metadata": {},
   "source": [
    "Let's locate the simulated dataset :"
   ]
  },
  {
   "cell_type": "code",
   "execution_count": null,
   "metadata": {},
   "outputs": [],
   "source": [
    "!ls ../data/simulation/single_runs/dispersion"
   ]
  },
  {
   "cell_type": "markdown",
   "metadata": {},
   "source": [
    "Let's have a look at the image we produced :"
   ]
  },
  {
   "cell_type": "code",
   "execution_count": null,
   "metadata": {},
   "outputs": [],
   "source": [
    "!ls ../data/simulation/single_runs/dispersion/my_sim/visuals\n",
    "!eog ../data/simulation/single_runs/dispersion/my_sim/visuals/my_sim_0.png"
   ]
  },
  {
   "cell_type": "markdown",
   "metadata": {},
   "source": [
    "When generating comparative plots empirical data are always in blue and simualted data in red.  \n",
    "Let's have a look at some of the plots.  \n",
    "\n",
    "Let's start from simple graphs of linear and angular velocity of individual larvae."
   ]
  },
  {
   "cell_type": "code",
   "execution_count": null,
   "metadata": {},
   "outputs": [],
   "source": [
    "!ls ../data/simulation/single_runs/dispersion/my_sim/plots/marked_epochs"
   ]
  },
  {
   "cell_type": "code",
   "execution_count": null,
   "metadata": {},
   "outputs": [],
   "source": [
    "!evince ../data/simulation/single_runs/dispersion/my_sim/plots/marked_epochs/Larva_0_marked_strides_full.pdf\n",
    "!evince ../data/simulation/single_runs/dispersion/my_sim/plots/marked_epochs/Larva_0_marked_turns_min_angle_0_full.pdf"
   ]
  },
  {
   "cell_type": "markdown",
   "metadata": {},
   "source": [
    "And now the comparative plots"
   ]
  },
  {
   "cell_type": "code",
   "execution_count": null,
   "metadata": {},
   "outputs": [],
   "source": [
    "!ls ../data/simulation/single_runs/dispersion/my_sim/plots/comparative"
   ]
  },
  {
   "cell_type": "markdown",
   "metadata": {},
   "source": [
    "Some endpoint parameters. The circles show statistical significance. "
   ]
  },
  {
   "cell_type": "code",
   "execution_count": null,
   "metadata": {},
   "outputs": [],
   "source": [
    "!evince ../data/simulation/single_runs/dispersion/my_sim/plots/comparative/endpoint_params_minimal.pdf"
   ]
  },
  {
   "cell_type": "markdown",
   "metadata": {},
   "source": [
    "The distributions of angular parameters across all larvae."
   ]
  },
  {
   "cell_type": "code",
   "execution_count": null,
   "metadata": {},
   "outputs": [],
   "source": [
    "!evince ../data/simulation/single_runs/dispersion/my_sim/plots/comparative/angular_pars.pdf"
   ]
  },
  {
   "cell_type": "markdown",
   "metadata": {},
   "source": [
    "The log-log distribution of crawl-run and crawl-pause durations along with the best fitting distribution among power-law, exponential and log-normal"
   ]
  },
  {
   "cell_type": "code",
   "execution_count": null,
   "metadata": {},
   "outputs": [],
   "source": [
    "!evince ../data/simulation/single_runs/dispersion/my_sim/plots/comparative/stridesNpauses_cdf_broad.pdf"
   ]
  },
  {
   "cell_type": "markdown",
   "metadata": {},
   "source": [
    "The average linear and angular velocity curve during a stride."
   ]
  },
  {
   "cell_type": "code",
   "execution_count": null,
   "metadata": {},
   "outputs": [],
   "source": [
    "!evince ../data/simulation/single_runs/dispersion/my_sim/plots/comparative/interference_orientation.pdf"
   ]
  },
  {
   "cell_type": "markdown",
   "metadata": {},
   "source": [
    "The distribution of front and rear orientation change over individual strides"
   ]
  },
  {
   "cell_type": "code",
   "execution_count": null,
   "metadata": {},
   "outputs": [],
   "source": [
    "!evince ../data/simulation/single_runs/dispersion/my_sim/plots/comparative/orientation_over_strides.pdf"
   ]
  },
  {
   "cell_type": "markdown",
   "metadata": {},
   "source": [
    "The amplitude of turns"
   ]
  },
  {
   "cell_type": "code",
   "execution_count": null,
   "metadata": {},
   "outputs": [],
   "source": [
    "!evince ../data/simulation/single_runs/dispersion/my_sim/plots/comparative/turns.pdf"
   ]
  },
  {
   "cell_type": "markdown",
   "metadata": {},
   "source": [
    "The dispersion for the first 40''"
   ]
  },
  {
   "cell_type": "code",
   "execution_count": null,
   "metadata": {},
   "outputs": [],
   "source": [
    "!evince ../data/simulation/single_runs/dispersion/my_sim/plots/comparative/dispersion/dispersion_0-40.pdf"
   ]
  },
  {
   "cell_type": "markdown",
   "metadata": {},
   "source": [
    "### **Batch runs**"
   ]
  },
  {
   "cell_type": "markdown",
   "metadata": {},
   "source": [
    "Batch runs can be run using the **batch_run.py**.   \n",
    "\n",
    "**IMPORTANT** : If a batch run with the same id already exists, it will be resumed expanding the space search with the new one defined.\n",
    "\n",
    "Let's check the help :"
   ]
  },
  {
   "cell_type": "code",
   "execution_count": null,
   "metadata": {},
   "outputs": [],
   "source": [
    "!python batch_run.py -h"
   ]
  },
  {
   "cell_type": "markdown",
   "metadata": {},
   "source": [
    "#### **Space search**"
   ]
  },
  {
   "cell_type": "markdown",
   "metadata": {},
   "source": [
    "We can run multiple single runs of an experiment using different combinations of parameters (configurations).  \n",
    "The available flags are :\n",
    "- **-par** : The parameters that participate in the space search.\n",
    "- **-rng** (floats): The ranges for the parameters. Two floats for each parameter.\n",
    "- **-Ngrd** (int(s)): The grid dimension to parse the range of each parameter. If a single int is provided it will be used for all parameter ranges."
   ]
  },
  {
   "cell_type": "markdown",
   "metadata": {},
   "source": [
    "For the **odor_pref** batch run the parameters are the left and right odor valences.  \n",
    "\n",
    "Let's run a batch run searching the space of odor valences from -100 to 100 creating a grid of 5x5.  \n",
    "This will run 25 experiments. Each will have a different combination of left-right odor valences."
   ]
  },
  {
   "cell_type": "code",
   "execution_count": null,
   "metadata": {},
   "outputs": [],
   "source": [
    "!python batch_run.py odor_pref -N 20 -t 2.0 -rng -100 100 -Ngrd 5 -id my_odor_pref_batch"
   ]
  },
  {
   "cell_type": "markdown",
   "metadata": {},
   "source": [
    "Let's see the outcome of the batch run.  \n",
    "A heatmap is generated showing the preference index (PI) for every combination of valences."
   ]
  },
  {
   "cell_type": "code",
   "execution_count": null,
   "metadata": {},
   "outputs": [],
   "source": [
    "!evince ../data/simulation/batch_runs/odor_pref/my_odor_pref_batch/PI_heatmap.pdf"
   ]
  },
  {
   "cell_type": "markdown",
   "metadata": {},
   "source": [
    "#### **Optimization**"
   ]
  },
  {
   "cell_type": "markdown",
   "metadata": {},
   "source": [
    "We can continue the above space search to optimize a specific endpoint fit parameter.  \n",
    "If the threshold set for the fit parameter is not reached after the initial space search a new generation of configurations will be generated by mutating the best performining ones.  \n",
    "\n",
    "The available flags are :\n",
    "- **-Nmax** (int): The maximum number of simulations to run throughout the batch run.\n",
    "- **-Nbst** (int): The number of best parameter combinations to mutate at the next generation."
   ]
  },
  {
   "cell_type": "markdown",
   "metadata": {},
   "source": [
    "For example the **chemorbit** batch run optimizes configurations for achieving the smallest dispersion away from the odor source.  \n",
    "The default space consists of 25 configurations, therefore 25 runs.  \n",
    "Let's run a maximum of 50 single runs, selecting the best 5 at each generation."
   ]
  },
  {
   "cell_type": "code",
   "execution_count": null,
   "metadata": {},
   "outputs": [],
   "source": [
    "!python batch_run.py chemorbit -N 5 -t 1.0 -Nmax 50 -Nbst 5 -id my_chemorbit_batch"
   ]
  },
  {
   "cell_type": "markdown",
   "metadata": {},
   "source": [
    "Let's see the results.\n",
    "First column is the index of the run.  \n",
    "Next columns are the configuration of parameters.  \n",
    "Last column is the fit parameter.  \n",
    "The lines are sorted in ascending order of the fit parameter (in the case of minimization), therefore the first row displays the best configuration."
   ]
  },
  {
   "cell_type": "code",
   "execution_count": null,
   "metadata": {},
   "outputs": [],
   "source": [
    "!cat ../data/simulation/batch_runs/chemorbit/my_chemorbit_batch/results.csv | column -t -s,"
   ]
  },
  {
   "cell_type": "code",
   "execution_count": null,
   "metadata": {},
   "outputs": [],
   "source": []
  }
 ],
 "metadata": {
  "kernelspec": {
   "display_name": "my_venv",
   "language": "python",
   "name": "my_venv"
  },
  "language_info": {
   "codemirror_mode": {
    "name": "ipython",
    "version": 3
   },
   "file_extension": ".py",
   "mimetype": "text/x-python",
   "name": "python",
   "nbconvert_exporter": "python",
   "pygments_lexer": "ipython3",
   "version": "3.6.9"
  },
  "pycharm": {
   "stem_cell": {
    "cell_type": "raw",
    "metadata": {
     "collapsed": false
    },
    "source": []
   }
  }
 },
 "nbformat": 4,
 "nbformat_minor": 4
}
