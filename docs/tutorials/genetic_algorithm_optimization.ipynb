{
 "cells": [
  {
   "cell_type": "markdown",
   "metadata": {},
   "source": [
    "## Genetic algorithm optimization\n",
    "\n",
    "In this tutorial, we will demonstrate how to use the genetic algorithm (GA) optimization functionality in larvaworld. The GA will optimize an existing larva model by adjusting its parameters within a defined space.\n",
    "\n"
   ]
  },
  {
   "cell_type": "markdown",
   "metadata": {},
   "source": [
    "The optimization target of the GA is an already existing larva model. \n",
    "This should be stored in the Model configuration database under a unique ID.\n",
    "It is provided as an argument to the GA during initialization.\n",
    "The fields of this model that should be used to create the parameter optimization space are also provided by the respective module names.\n",
    "The creation and management of the parameter space is done via a dedicated class"
   ]
  },
  {
   "cell_type": "code",
   "execution_count": null,
   "metadata": {},
   "outputs": [],
   "source": [
    "from larvaworld.lib.model.modules.module_modes import SpaceDict\n",
    "\n",
    "space_dict = SpaceDict(base_model=\"explorer\", space_mkeys=[\"interference\", \"crawler\"])"
   ]
  },
  {
   "cell_type": "code",
   "execution_count": null,
   "metadata": {},
   "outputs": [],
   "source": []
  }
 ],
 "metadata": {
  "kernelspec": {
   "display_name": "larvaworld_autoversioning",
   "language": "python",
   "name": "python3"
  },
  "language_info": {
   "codemirror_mode": {
    "name": "ipython",
    "version": 3
   },
   "file_extension": ".py",
   "mimetype": "text/x-python",
   "name": "python",
   "nbconvert_exporter": "python",
   "pygments_lexer": "ipython3",
   "version": "3.8.13"
  }
 },
 "nbformat": 4,
 "nbformat_minor": 2
}
