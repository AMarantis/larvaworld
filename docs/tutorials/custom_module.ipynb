{
 "cells": [
  {
   "cell_type": "markdown",
   "metadata": {},
   "source": [
    "## Customize and launch a virtual experiment\n",
    "\n",
    "This tutorial demonstrates how to develop your own custom behavioral modules.\n",
    "\n",
    "Let's walk through the steps to create two custom behavioral module implementations: a custom olfactor and a custom thermosensor.\n",
    "\n",
    "First define all required imports: "
   ]
  },
  {
   "cell_type": "code",
   "execution_count": 3,
   "metadata": {},
   "outputs": [
    {
     "ename": "ModuleNotFoundError",
     "evalue": "No module named 'param'",
     "output_type": "error",
     "traceback": [
      "\u001B[0;31m---------------------------------------------------------------------------\u001B[0m",
      "\u001B[0;31mModuleNotFoundError\u001B[0m                       Traceback (most recent call last)",
      "Cell \u001B[0;32mIn[3], line 1\u001B[0m\n\u001B[0;32m----> 1\u001B[0m \u001B[43mget_ipython\u001B[49m\u001B[43m(\u001B[49m\u001B[43m)\u001B[49m\u001B[38;5;241;43m.\u001B[39;49m\u001B[43mrun_line_magic\u001B[49m\u001B[43m(\u001B[49m\u001B[38;5;124;43m'\u001B[39;49m\u001B[38;5;124;43mload_ext\u001B[39;49m\u001B[38;5;124;43m'\u001B[39;49m\u001B[43m,\u001B[49m\u001B[43m \u001B[49m\u001B[38;5;124;43m'\u001B[39;49m\u001B[38;5;124;43mparam.ipython\u001B[39;49m\u001B[38;5;124;43m'\u001B[39;49m\u001B[43m)\u001B[49m\n\u001B[1;32m      2\u001B[0m \u001B[38;5;28;01mfrom\u001B[39;00m \u001B[38;5;21;01mparam\u001B[39;00m\u001B[38;5;21;01m.\u001B[39;00m\u001B[38;5;21;01mipython\u001B[39;00m \u001B[38;5;28;01mimport\u001B[39;00m ParamPager\n\u001B[1;32m      3\u001B[0m \u001B[38;5;28;01mimport\u001B[39;00m \u001B[38;5;21;01mparams\u001B[39;00m\u001B[38;5;21;01m.\u001B[39;00m\u001B[38;5;21;01mIPython\u001B[39;00m\n",
      "File \u001B[0;32m/usr/local/Cellar/jupyterlab/4.3.4/libexec/lib/python3.13/site-packages/IPython/core/interactiveshell.py:2480\u001B[0m, in \u001B[0;36mInteractiveShell.run_line_magic\u001B[0;34m(self, magic_name, line, _stack_depth)\u001B[0m\n\u001B[1;32m   2478\u001B[0m     kwargs[\u001B[38;5;124m'\u001B[39m\u001B[38;5;124mlocal_ns\u001B[39m\u001B[38;5;124m'\u001B[39m] \u001B[38;5;241m=\u001B[39m \u001B[38;5;28mself\u001B[39m\u001B[38;5;241m.\u001B[39mget_local_scope(stack_depth)\n\u001B[1;32m   2479\u001B[0m \u001B[38;5;28;01mwith\u001B[39;00m \u001B[38;5;28mself\u001B[39m\u001B[38;5;241m.\u001B[39mbuiltin_trap:\n\u001B[0;32m-> 2480\u001B[0m     result \u001B[38;5;241m=\u001B[39m \u001B[43mfn\u001B[49m\u001B[43m(\u001B[49m\u001B[38;5;241;43m*\u001B[39;49m\u001B[43margs\u001B[49m\u001B[43m,\u001B[49m\u001B[43m \u001B[49m\u001B[38;5;241;43m*\u001B[39;49m\u001B[38;5;241;43m*\u001B[39;49m\u001B[43mkwargs\u001B[49m\u001B[43m)\u001B[49m\n\u001B[1;32m   2482\u001B[0m \u001B[38;5;66;03m# The code below prevents the output from being displayed\u001B[39;00m\n\u001B[1;32m   2483\u001B[0m \u001B[38;5;66;03m# when using magics with decorator @output_can_be_silenced\u001B[39;00m\n\u001B[1;32m   2484\u001B[0m \u001B[38;5;66;03m# when the last Python token in the expression is a ';'.\u001B[39;00m\n\u001B[1;32m   2485\u001B[0m \u001B[38;5;28;01mif\u001B[39;00m \u001B[38;5;28mgetattr\u001B[39m(fn, magic\u001B[38;5;241m.\u001B[39mMAGIC_OUTPUT_CAN_BE_SILENCED, \u001B[38;5;28;01mFalse\u001B[39;00m):\n",
      "File \u001B[0;32m/usr/local/Cellar/jupyterlab/4.3.4/libexec/lib/python3.13/site-packages/IPython/core/magics/extension.py:33\u001B[0m, in \u001B[0;36mExtensionMagics.load_ext\u001B[0;34m(self, module_str)\u001B[0m\n\u001B[1;32m     31\u001B[0m \u001B[38;5;28;01mif\u001B[39;00m \u001B[38;5;129;01mnot\u001B[39;00m module_str:\n\u001B[1;32m     32\u001B[0m     \u001B[38;5;28;01mraise\u001B[39;00m UsageError(\u001B[38;5;124m'\u001B[39m\u001B[38;5;124mMissing module name.\u001B[39m\u001B[38;5;124m'\u001B[39m)\n\u001B[0;32m---> 33\u001B[0m res \u001B[38;5;241m=\u001B[39m \u001B[38;5;28;43mself\u001B[39;49m\u001B[38;5;241;43m.\u001B[39;49m\u001B[43mshell\u001B[49m\u001B[38;5;241;43m.\u001B[39;49m\u001B[43mextension_manager\u001B[49m\u001B[38;5;241;43m.\u001B[39;49m\u001B[43mload_extension\u001B[49m\u001B[43m(\u001B[49m\u001B[43mmodule_str\u001B[49m\u001B[43m)\u001B[49m\n\u001B[1;32m     35\u001B[0m \u001B[38;5;28;01mif\u001B[39;00m res \u001B[38;5;241m==\u001B[39m \u001B[38;5;124m'\u001B[39m\u001B[38;5;124malready loaded\u001B[39m\u001B[38;5;124m'\u001B[39m:\n\u001B[1;32m     36\u001B[0m     \u001B[38;5;28mprint\u001B[39m(\u001B[38;5;124m\"\u001B[39m\u001B[38;5;124mThe \u001B[39m\u001B[38;5;132;01m%s\u001B[39;00m\u001B[38;5;124m extension is already loaded. To reload it, use:\u001B[39m\u001B[38;5;124m\"\u001B[39m \u001B[38;5;241m%\u001B[39m module_str)\n",
      "File \u001B[0;32m/usr/local/Cellar/jupyterlab/4.3.4/libexec/lib/python3.13/site-packages/IPython/core/extensions.py:62\u001B[0m, in \u001B[0;36mExtensionManager.load_extension\u001B[0;34m(self, module_str)\u001B[0m\n\u001B[1;32m     55\u001B[0m \u001B[38;5;250m\u001B[39m\u001B[38;5;124;03m\"\"\"Load an IPython extension by its module name.\u001B[39;00m\n\u001B[1;32m     56\u001B[0m \n\u001B[1;32m     57\u001B[0m \u001B[38;5;124;03mReturns the string \"already loaded\" if the extension is already loaded,\u001B[39;00m\n\u001B[1;32m     58\u001B[0m \u001B[38;5;124;03m\"no load function\" if the module doesn't have a load_ipython_extension\u001B[39;00m\n\u001B[1;32m     59\u001B[0m \u001B[38;5;124;03mfunction, or None if it succeeded.\u001B[39;00m\n\u001B[1;32m     60\u001B[0m \u001B[38;5;124;03m\"\"\"\u001B[39;00m\n\u001B[1;32m     61\u001B[0m \u001B[38;5;28;01mtry\u001B[39;00m:\n\u001B[0;32m---> 62\u001B[0m     \u001B[38;5;28;01mreturn\u001B[39;00m \u001B[38;5;28;43mself\u001B[39;49m\u001B[38;5;241;43m.\u001B[39;49m\u001B[43m_load_extension\u001B[49m\u001B[43m(\u001B[49m\u001B[43mmodule_str\u001B[49m\u001B[43m)\u001B[49m\n\u001B[1;32m     63\u001B[0m \u001B[38;5;28;01mexcept\u001B[39;00m \u001B[38;5;167;01mModuleNotFoundError\u001B[39;00m:\n\u001B[1;32m     64\u001B[0m     \u001B[38;5;28;01mif\u001B[39;00m module_str \u001B[38;5;129;01min\u001B[39;00m BUILTINS_EXTS:\n",
      "File \u001B[0;32m/usr/local/Cellar/jupyterlab/4.3.4/libexec/lib/python3.13/site-packages/IPython/core/extensions.py:77\u001B[0m, in \u001B[0;36mExtensionManager._load_extension\u001B[0;34m(self, module_str)\u001B[0m\n\u001B[1;32m     75\u001B[0m \u001B[38;5;28;01mwith\u001B[39;00m \u001B[38;5;28mself\u001B[39m\u001B[38;5;241m.\u001B[39mshell\u001B[38;5;241m.\u001B[39mbuiltin_trap:\n\u001B[1;32m     76\u001B[0m     \u001B[38;5;28;01mif\u001B[39;00m module_str \u001B[38;5;129;01mnot\u001B[39;00m \u001B[38;5;129;01min\u001B[39;00m sys\u001B[38;5;241m.\u001B[39mmodules:\n\u001B[0;32m---> 77\u001B[0m         mod \u001B[38;5;241m=\u001B[39m \u001B[43mimport_module\u001B[49m\u001B[43m(\u001B[49m\u001B[43mmodule_str\u001B[49m\u001B[43m)\u001B[49m\n\u001B[1;32m     78\u001B[0m     mod \u001B[38;5;241m=\u001B[39m sys\u001B[38;5;241m.\u001B[39mmodules[module_str]\n\u001B[1;32m     79\u001B[0m     \u001B[38;5;28;01mif\u001B[39;00m \u001B[38;5;28mself\u001B[39m\u001B[38;5;241m.\u001B[39m_call_load_ipython_extension(mod):\n",
      "File \u001B[0;32m/usr/local/Cellar/python@3.13/3.13.1/Frameworks/Python.framework/Versions/3.13/lib/python3.13/importlib/__init__.py:88\u001B[0m, in \u001B[0;36mimport_module\u001B[0;34m(name, package)\u001B[0m\n\u001B[1;32m     86\u001B[0m             \u001B[38;5;28;01mbreak\u001B[39;00m\n\u001B[1;32m     87\u001B[0m         level \u001B[38;5;241m+\u001B[39m\u001B[38;5;241m=\u001B[39m \u001B[38;5;241m1\u001B[39m\n\u001B[0;32m---> 88\u001B[0m \u001B[38;5;28;01mreturn\u001B[39;00m \u001B[43m_bootstrap\u001B[49m\u001B[38;5;241;43m.\u001B[39;49m\u001B[43m_gcd_import\u001B[49m\u001B[43m(\u001B[49m\u001B[43mname\u001B[49m\u001B[43m[\u001B[49m\u001B[43mlevel\u001B[49m\u001B[43m:\u001B[49m\u001B[43m]\u001B[49m\u001B[43m,\u001B[49m\u001B[43m \u001B[49m\u001B[43mpackage\u001B[49m\u001B[43m,\u001B[49m\u001B[43m \u001B[49m\u001B[43mlevel\u001B[49m\u001B[43m)\u001B[49m\n",
      "File \u001B[0;32m<frozen importlib._bootstrap>:1387\u001B[0m, in \u001B[0;36m_gcd_import\u001B[0;34m(name, package, level)\u001B[0m\n",
      "File \u001B[0;32m<frozen importlib._bootstrap>:1360\u001B[0m, in \u001B[0;36m_find_and_load\u001B[0;34m(name, import_)\u001B[0m\n",
      "File \u001B[0;32m<frozen importlib._bootstrap>:1310\u001B[0m, in \u001B[0;36m_find_and_load_unlocked\u001B[0;34m(name, import_)\u001B[0m\n",
      "File \u001B[0;32m<frozen importlib._bootstrap>:488\u001B[0m, in \u001B[0;36m_call_with_frames_removed\u001B[0;34m(f, *args, **kwds)\u001B[0m\n",
      "File \u001B[0;32m<frozen importlib._bootstrap>:1387\u001B[0m, in \u001B[0;36m_gcd_import\u001B[0;34m(name, package, level)\u001B[0m\n",
      "File \u001B[0;32m<frozen importlib._bootstrap>:1360\u001B[0m, in \u001B[0;36m_find_and_load\u001B[0;34m(name, import_)\u001B[0m\n",
      "File \u001B[0;32m<frozen importlib._bootstrap>:1324\u001B[0m, in \u001B[0;36m_find_and_load_unlocked\u001B[0;34m(name, import_)\u001B[0m\n",
      "\u001B[0;31mModuleNotFoundError\u001B[0m: No module named 'param'"
     ]
    }
   ],
   "source": [
    "%load_ext param.ipython\n",
    "from param.ipython import ParamPager\n",
    "import params.IPython\n",
    "import larvaworld.lib.reg as reg\n",
    "import larvaworld.lib.sim as sim\n",
    "from larvaworld.lib.reg.generators import ExpConf\n",
    "\n",
    "# Setting the verbosity level to 0 to get more information\n",
    "lw.VERBOSE = 1\n",
    "\n",
    "# import ineterfaces we're about to customize\n",
    "from larvaworld.lib.model.modules.sensor import Olfactor, Thermosensor, Turner\n",
    "import random"
   ]
  },
  {
   "cell_type": "markdown",
   "metadata": {},
   "source": [
    "Behavioral modules in larvaworld are the building blocks used to run and control an individual agents. Larvaworld tries to be as modular as possible to allow you to write your own custom modules and plug them in.\n",
    "\n",
    "In essence a behavioral module is a Python class that maps some input state to some output state. The output state of one module may then be fed as input state to some other behavioral module. To see how computed states of modules flow through the modular architecture please refer to our technical paper.\n",
    "\n",
    "The basic steps to implement a custom module are:\n",
    "- create a new Python class\n",
    "- inherit from the appropriate larvaworld module base class (ie. Olfactor)\n",
    "- implement a ´update()´ function\n",
    "- compute some new output state - potentially using sensory input via ´self.input´ \n",
    "- store the computed output state in ´self.output´ property\n",
    "\n",
    "\n",
    "In the example below we will implement 2 custom modules:\n",
    "\n",
    "### Custom Olfactor\n",
    "This will read the currently sensed odor value from the sensor. The output state will be the current absolute odor value multiplied by some random number\n",
    "\n",
    "We will use that class as implementation for the olfactor sensor.\n",
    "\n",
    "### Custom Behavior Module\n",
    "This will not make use of any input. The output state will be computed as a simple random variable.\n",
    "\n",
    "We will use that module as implementation for the Thermosensor."
   ]
  },
  {
   "cell_type": "code",
   "execution_count": null,
   "metadata": {},
   "outputs": [],
   "source": [
    "class CustomOlfactor(Olfactor):\n",
    "    def __init__(self, **kwargs):\n",
    "        self.last_osn_activity = None\n",
    "        print(\"**** CustomOlfactor ****\")\n",
    "        print(kwargs)\n",
    "        super().__init__(**kwargs)\n",
    "\n",
    "    def update(self):\n",
    "        agent_id = (\n",
    "            self.brain.agent.unique_id if self.brain is not None else self.agent_id\n",
    "        )\n",
    "        sim_id = self.brain.agent.model.id if self.brain is not None else self.sim_id\n",
    "\n",
    "        # self.X.values() provides an array of all odor types, where the index is the odor_id\n",
    "        # lets read the currently sensed values for the first odor:\n",
    "        olfactory_input = {\n",
    "            \"odor_id\": 0,\n",
    "            # absolute concentration of 1st odor\n",
    "            \"concentration_mmol\": self.input.values()[0],\n",
    "            # change in concentration of 1st odor\n",
    "            \"concentration_change_mmol\": self.first_odor_concentration_change,\n",
    "        }\n",
    "\n",
    "        # set the output value of this custom Olfaction module\n",
    "        # that gets passed as input to other larvaworld modules\n",
    "        self.output = olfactory_input[\"concentration_mmol\"] * random.random()\n",
    "        print(\n",
    "            f\"LocalOlfactor output: {self.output} sim_id: {sim_id} agent_id: {agent_id}\"\n",
    "        )\n",
    "\n",
    "\n",
    "class CustomBehaviorModule(Thermosensor):\n",
    "    def __init__(self, **kwargs):\n",
    "        super().__init__(kwargs)\n",
    "\n",
    "    def update(self):\n",
    "        agent_id = (\n",
    "            self.brain.agent.unique_id if self.brain is not None else self.agent_id\n",
    "        )\n",
    "        sim_id = self.brain.agent.model.id if self.brain is not None else self.sim_id\n",
    "        # ignore input and use some randomness\n",
    "        self.output = random.random()\n",
    "        print(\n",
    "            f\"CustomBehaviorModule output: {self.output} sim_id: {sim_id} agent_id: {agent_id}\"\n",
    "        )"
   ]
  },
  {
   "cell_type": "markdown",
   "metadata": {},
   "source": "Now that we have the implementations for our custom modules we need to instruct larvaworld to use these for the respective behavioral modules instead of larvaworld's default implementations"
  },
  {
   "cell_type": "markdown",
   "metadata": {},
   "source": ""
  },
  {
   "cell_type": "code",
   "execution_count": null,
   "metadata": {},
   "outputs": [],
   "source": [
    "# overwrite mode 'osn' to use our custom LocalOlfactor class\n",
    "BrainModuleDB.BrainModuleModes.olfactor.osn = LocalOlfactor\n",
    "\n",
    "# instruct larvaworld to use our CustomBehaviorModule class as the Thermosensor\n",
    "BrainModuleDB.BrainModuleModes.thermosensor.custom = CustomBehaviorModule\n",
    "\n",
    "# for a custom turner implementation you would use:\n",
    "# BrainModuleDB.BrainModuleModes.turner.custom = CustomTurnerModule"
   ]
  },
  {
   "cell_type": "markdown",
   "metadata": {},
   "source": [
    "That's almost it - all that's left is to configure an experiment to run. \n",
    "\n",
    "And instruct larvaworld to use the custom implementations when creating larva agent instances.\n",
    "\n",
    "This will be done by adjusting the model configuration."
   ]
  },
  {
   "cell_type": "code",
   "execution_count": null,
   "metadata": {},
   "outputs": [],
   "source": [
    "# load predefined experiment\n",
    "expID = \"chemorbit\"\n",
    "exp_conf = reg.conf.Exp.getID(expID)\n",
    "# explore some experiment settings\n",
    "print(\n",
    "    f\"Experiment odor intensity: {exp_conf.env_params.food_params.source_units.Source.odor}\"\n",
    ")"
   ]
  },
  {
   "cell_type": "code",
   "execution_count": null,
   "metadata": {},
   "outputs": [],
   "source": [
    "# customize odor intensity of above source\n",
    "exp_conf.env_params.food_params.source_units.Source.odor.spread = 0.01\n",
    "print(\n",
    "    f\"Adjusted odor intensity: {exp_conf.env_params.food_params.source_units.Source.odor}\"\n",
    ")\n",
    "larva_group = exp_conf.larva_groups\n",
    "# Print the entire larva group config\n",
    "print(\"Larva group configuration:\")\n",
    "print(larva_group)\n",
    "\n",
    "print(f\"Available larva group IDs/names: {larva_group.keylist}\")\n",
    "# get the \"name\" of the first larva group\n",
    "# this defaults to the larva agent model ID used by this group if none is provided\n",
    "larva_group_id = larva_group.keylist[0]\n",
    "# larva_group_id and model ID are both the same thing if no custom larva_group name is provided\n",
    "print(larva_group_id, larva_group[larva_group_id].model)\n",
    "\n",
    "# access the model_id that is used by larva agent instances created by this group:\n",
    "print(f\"model_id of group #1: {larva_group[larva_group_id].model}\")\n",
    "\n",
    "# change the model type to use by this larva group:\n",
    "exp_conf.larva_groups[larva_group_id].model = \"Levy_navigator\""
   ]
  },
  {
   "cell_type": "markdown",
   "metadata": {},
   "source": "Fetch and update the model configuration and set the behavioral module mode's to use our custom implementation"
  },
  {
   "cell_type": "code",
   "execution_count": null,
   "metadata": {},
   "outputs": [],
   "source": [
    "# retrieve and print the model configuration of a given model ID\n",
    "mm = reg.conf.Model.getID(larva_group[larva_group_id].model)\n",
    "print(f\"larva agent model config: {mm}\")\n",
    "\n",
    "# set the model's module implementations to 'custom' to activate our custom implementations:\n",
    "mm.brain.olfactor.mode = \"osn\"\n",
    "mm.brain.thermosensor.mode = \"custom\"\n",
    "# to activate the custom turner you'd use:\n",
    "# mm.brain.turner.mode = 'custom'"
   ]
  },
  {
   "cell_type": "markdown",
   "metadata": {},
   "source": "Finally run the simulation"
  },
  {
   "cell_type": "code",
   "execution_count": null,
   "metadata": {},
   "outputs": [],
   "source": [
    "# Launch a simulation run of the customized experiment:\n",
    "\n",
    "run_id = \"my-custom-modules-run\"\n",
    "\n",
    "# This runs the simulation\n",
    "# You can omit the screen_kws to prevent a GUI rendering during experiment run\n",
    "erun = sim.ExpRun(\n",
    "    experiment=expID,\n",
    "    modelIDs=[\"navigator\", \"Levy_navigator\"],\n",
    "    screen_kws={\n",
    "        \"vis_mode\": \"video\",  # valid options: video, image, None\n",
    "        \"show_display\": True,\n",
    "        \"save_video\": True,  # if you want to save the experiment as video file\n",
    "        \"fps\": 20,  # framerate of the video files - higher = slower simulation runtime\n",
    "        # save video files to videos/larva-sim-*.mp4 file\n",
    "        \"video_file\": \"larva-sim-{}.mp4\".format(run_id),\n",
    "        \"media_dir\": \"videos/\",\n",
    "    },\n",
    "    N=2,  # number of larva agent instances to place per group\n",
    "    duration=0.5,  # overall duration of the experiment simulation in seconds\n",
    ")\n",
    "\n",
    "erun.simulate()\n",
    "print(\"Run_id: {} completed - videoFile: videos/larva-sim-{}\".format(run_id, run_id))\n",
    "\n",
    "# run analysis on recorded simulation data\n",
    "erun.analyze()"
   ]
  }
 ],
 "metadata": {
  "kernelspec": {
   "display_name": "Python 3 (ipykernel)",
   "language": "python",
   "name": "python3"
  },
  "language_info": {
   "codemirror_mode": {
    "name": "ipython",
    "version": 3
   },
   "file_extension": ".py",
   "mimetype": "text/x-python",
   "name": "python",
   "nbconvert_exporter": "python",
   "pygments_lexer": "ipython3",
   "version": "3.13.1"
  }
 },
 "nbformat": 4,
 "nbformat_minor": 4
}
