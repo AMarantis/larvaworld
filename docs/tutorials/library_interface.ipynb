{
 "cells": [
  {
   "cell_type": "markdown",
   "metadata": {},
   "source": [
    "## Develop and use custom behavioral modules\n",
    "\n",
    "This tutorial demonstrates how to use the larvaworld library interface to create, modify and launch virtual experiments.\n",
    "Larvaworld ships with a comprehensive set of preconfigured experiments that reflect many types of dish experiments that are conducted by experimental researchers.\n",
    "\n",
    "A larvaworld experiment is a set of configuration variables that describe and control various aspects of the overall virtual experiment.\n",
    "This includes:\n",
    "- the environment definition (dish geometry and dimensions)\n",
    "- location, shape and intensity of sensory objects (food patches, odor sources ...)\n",
    "- the number, size and placement of larva groups\n",
    "- the larva agent configuration per group\n",
    "    - body physics\n",
    "    - behavioral modules and their parameters\n",
    "    - initial states (ie. metabolic state)\n",
    "\n",
    "As one can see the number of available parameters is quite large.\n",
    "There are several preconfigured experiments available that can be launched instantly.\n",
    "In order to create your own custom experiment we recommend to start off with one of the available preconfigured experiments that best match the type of experiment you want to ran. And then modify any specific parameters you would like to customize.\n",
    "\n",
    "Let's walk through the steps to create a custom experiment where we want to customize the intensity of the odor landscape available in the dish.\n",
    "First define all required imports: "
   ]
  },
  {
   "cell_type": "code",
   "execution_count": 6,
   "metadata": {},
   "outputs": [
    {
     "name": "stdout",
     "output_type": "stream",
     "text": [
      "Requirement already satisfied: param in /usr/local/Cellar/jupyterlab/4.3.5/libexec/lib/python3.13/site-packages (2.2.0)\n",
      "Requirement already satisfied: params in /usr/local/Cellar/jupyterlab/4.3.5/libexec/lib/python3.13/site-packages (0.9.0)\n",
      "Collecting larvaworld\n",
      "  Using cached larvaworld-0.0.549-py3-none-any.whl.metadata (13 kB)\n",
      "Requirement already satisfied: six in /usr/local/Cellar/jupyterlab/4.3.5/libexec/lib/python3.13/site-packages (from params) (1.17.0)\n",
      "INFO: pip is looking at multiple versions of larvaworld to determine which version is compatible with other requirements. This could take a while.\n",
      "  Using cached larvaworld-0.0.548-py3-none-any.whl.metadata (13 kB)\n",
      "  Using cached larvaworld-0.0.547-py3-none-any.whl.metadata (13 kB)\n",
      "  Using cached larvaworld-0.0.546-py3-none-any.whl.metadata (13 kB)\n",
      "  Using cached larvaworld-0.0.545-py3-none-any.whl.metadata (13 kB)\n",
      "  Using cached larvaworld-0.0.544-py3-none-any.whl.metadata (13 kB)\n",
      "  Using cached larvaworld-0.0.540-py3-none-any.whl.metadata (12 kB)\n",
      "  Using cached larvaworld-0.0.539-py3-none-any.whl.metadata (12 kB)\n",
      "INFO: pip is still looking at multiple versions of larvaworld to determine which version is compatible with other requirements. This could take a while.\n",
      "  Using cached larvaworld-0.0.538-py3-none-any.whl.metadata (12 kB)\n",
      "  Using cached larvaworld-0.0.536-py3-none-any.whl.metadata (12 kB)\n",
      "  Using cached larvaworld-0.0.535-py3-none-any.whl.metadata (12 kB)\n",
      "Collecting PySimpleGUI (from larvaworld)\n",
      "  Using cached pysimplegui-5.0.99.100-py3-none-any.whl.metadata (5.6 kB)\n",
      "Collecting agentpy (from larvaworld)\n",
      "  Using cached agentpy-0.1.5-py3-none-any.whl.metadata (3.3 kB)\n",
      "Collecting argparse (from larvaworld)\n",
      "  Using cached argparse-1.4.0-py2.py3-none-any.whl.metadata (2.8 kB)\n",
      "Collecting geopandas (from larvaworld)\n",
      "  Using cached geopandas-1.0.1-py3-none-any.whl.metadata (2.2 kB)\n",
      "Collecting holoviews (from larvaworld)\n",
      "  Using cached holoviews-1.20.1-py3-none-any.whl.metadata (9.9 kB)\n",
      "Collecting hvplot (from larvaworld)\n",
      "  Using cached hvplot-0.11.2-py3-none-any.whl.metadata (15 kB)\n",
      "Collecting imageio (from larvaworld)\n",
      "  Using cached imageio-2.37.0-py3-none-any.whl.metadata (5.2 kB)\n",
      "Collecting importlib (from larvaworld)\n",
      "  Downloading importlib-1.0.4.zip (7.1 kB)\n",
      "  Preparing metadata (setup.py) ... \u001b[?25lerror\n",
      "  \u001b[1;31merror\u001b[0m: \u001b[1msubprocess-exited-with-error\u001b[0m\n",
      "  \n",
      "  \u001b[31m×\u001b[0m \u001b[32mpython setup.py egg_info\u001b[0m did not run successfully.\n",
      "  \u001b[31m│\u001b[0m exit code: \u001b[1;36m1\u001b[0m\n",
      "  \u001b[31m╰─>\u001b[0m \u001b[31m[1 lines of output]\u001b[0m\n",
      "  \u001b[31m   \u001b[0m ERROR: Can not execute `setup.py` since setuptools is not available in the build environment.\n",
      "  \u001b[31m   \u001b[0m \u001b[31m[end of output]\u001b[0m\n",
      "  \n",
      "  \u001b[1;35mnote\u001b[0m: This error originates from a subprocess, and is likely not a problem with pip.\n",
      "\n",
      "\u001b[1m[\u001b[0m\u001b[34;49mnotice\u001b[0m\u001b[1;39;49m]\u001b[0m\u001b[39;49m A new release of pip is available: \u001b[0m\u001b[31;49m25.0\u001b[0m\u001b[39;49m -> \u001b[0m\u001b[32;49m25.0.1\u001b[0m\n",
      "\u001b[1m[\u001b[0m\u001b[34;49mnotice\u001b[0m\u001b[1;39;49m]\u001b[0m\u001b[39;49m To update, run: \u001b[0m\u001b[32;49m/usr/local/Cellar/jupyterlab/4.3.5/libexec/bin/python -m pip install --upgrade pip\u001b[0m\n",
      "\u001b[1;31merror\u001b[0m: \u001b[1mmetadata-generation-failed\u001b[0m\n",
      "\n",
      "\u001b[31m×\u001b[0m Encountered error while generating package metadata.\n",
      "\u001b[31m╰─>\u001b[0m See above for output.\n",
      "\n",
      "\u001b[1;35mnote\u001b[0m: This is an issue with the package mentioned above, not pip.\n",
      "\u001b[1;36mhint\u001b[0m: See above for details.\n",
      "Note: you may need to restart the kernel to use updated packages.\n",
      "The param.ipython extension is already loaded. To reload it, use:\n",
      "  %reload_ext param.ipython\n"
     ]
    },
    {
     "ename": "ModuleNotFoundError",
     "evalue": "No module named 'larvaworld'",
     "output_type": "error",
     "traceback": [
      "\u001b[0;31m---------------------------------------------------------------------------\u001b[0m",
      "\u001b[0;31mModuleNotFoundError\u001b[0m                       Traceback (most recent call last)",
      "Cell \u001b[0;32mIn[6], line 5\u001b[0m\n\u001b[1;32m      2\u001b[0m get_ipython()\u001b[38;5;241m.\u001b[39mrun_line_magic(\u001b[38;5;124m'\u001b[39m\u001b[38;5;124mload_ext\u001b[39m\u001b[38;5;124m'\u001b[39m, \u001b[38;5;124m'\u001b[39m\u001b[38;5;124mparam.ipython\u001b[39m\u001b[38;5;124m'\u001b[39m)\n\u001b[1;32m      3\u001b[0m \u001b[38;5;66;03m#from param.ipython import ParamPager\u001b[39;00m\n\u001b[1;32m      4\u001b[0m \u001b[38;5;66;03m#import params.IPython\u001b[39;00m\n\u001b[0;32m----> 5\u001b[0m \u001b[38;5;28;01mimport\u001b[39;00m\u001b[38;5;250m \u001b[39m\u001b[38;5;21;01mlarvaworld\u001b[39;00m\u001b[38;5;21;01m.\u001b[39;00m\u001b[38;5;21;01mlib\u001b[39;00m\u001b[38;5;21;01m.\u001b[39;00m\u001b[38;5;21;01mreg\u001b[39;00m\u001b[38;5;250m \u001b[39m\u001b[38;5;28;01mas\u001b[39;00m\u001b[38;5;250m \u001b[39m\u001b[38;5;21;01mreg\u001b[39;00m\n\u001b[1;32m      6\u001b[0m \u001b[38;5;28;01mimport\u001b[39;00m\u001b[38;5;250m \u001b[39m\u001b[38;5;21;01mlarvaworld\u001b[39;00m\u001b[38;5;21;01m.\u001b[39;00m\u001b[38;5;21;01mlib\u001b[39;00m\u001b[38;5;21;01m.\u001b[39;00m\u001b[38;5;21;01msim\u001b[39;00m\u001b[38;5;250m \u001b[39m\u001b[38;5;28;01mas\u001b[39;00m\u001b[38;5;250m \u001b[39m\u001b[38;5;21;01msim\u001b[39;00m\n\u001b[1;32m      7\u001b[0m \u001b[38;5;28;01mfrom\u001b[39;00m\u001b[38;5;250m \u001b[39m\u001b[38;5;21;01mlarvaworld\u001b[39;00m\u001b[38;5;21;01m.\u001b[39;00m\u001b[38;5;21;01mlib\u001b[39;00m\u001b[38;5;21;01m.\u001b[39;00m\u001b[38;5;21;01mreg\u001b[39;00m\u001b[38;5;21;01m.\u001b[39;00m\u001b[38;5;21;01mgenerators\u001b[39;00m\u001b[38;5;250m \u001b[39m\u001b[38;5;28;01mimport\u001b[39;00m ExpConf\n",
      "\u001b[0;31mModuleNotFoundError\u001b[0m: No module named 'larvaworld'"
     ]
    }
   ],
   "source": [
    "%pip install param params larvaworld\n",
    "%load_ext param.ipython\n",
    "# from param.ipython import ParamPager\n",
    "# import params.IPython\n",
    "import larvaworld.lib.reg as reg\n",
    "import larvaworld.lib.sim as sim\n",
    "from larvaworld.lib.reg.generators import ExpConf\n",
    "\n",
    "# Setting the verbosity level to 0 to get more information\n",
    "lw.VERBOSE = 1"
   ]
  },
  {
   "cell_type": "markdown",
   "metadata": {},
   "source": [
    "Larvaworld uses mostly dictionary structures to store and manage the configuration parameters of experiments.\n",
    "It also supports iPython magic commands to explore these.\n",
    "For example here we print out all parameters and settings that are available in an experiment via the ExpConf class:\n",
    "\n",
    "This includes:\n",
    "- General simulation arguments (duration, timestep etc)\n",
    "- Environment configuration (dish, geometry, size)\n",
    "- Parameters to be recorded from larva agents and their post-simulation analysis \n",
    "- Larva groups\n",
    "  "
   ]
  },
  {
   "cell_type": "code",
   "execution_count": 3,
   "metadata": {},
   "outputs": [
    {
     "name": "stdout",
     "output_type": "stream",
     "text": [
      "Object 'ExpConf' not found in the namespace.\n"
     ]
    },
    {
     "ename": "NameError",
     "evalue": "name 'ExpConf' is not defined",
     "output_type": "error",
     "traceback": [
      "\u001b[0;31m---------------------------------------------------------------------------\u001b[0m",
      "\u001b[0;31mNameError\u001b[0m                                 Traceback (most recent call last)",
      "Cell \u001b[0;32mIn[3], line 5\u001b[0m\n\u001b[1;32m      2\u001b[0m get_ipython()\u001b[38;5;241m.\u001b[39mrun_line_magic(\u001b[38;5;124m'\u001b[39m\u001b[38;5;124mparams\u001b[39m\u001b[38;5;124m'\u001b[39m, \u001b[38;5;124m'\u001b[39m\u001b[38;5;124mExpConf\u001b[39m\u001b[38;5;124m'\u001b[39m)\n\u001b[1;32m      4\u001b[0m \u001b[38;5;66;03m# Show the attributes of the ExpConf class as a nested dictionary\u001b[39;00m\n\u001b[0;32m----> 5\u001b[0m \u001b[43mExpConf\u001b[49m\u001b[38;5;241m.\u001b[39mparam\n",
      "\u001b[0;31mNameError\u001b[0m: name 'ExpConf' is not defined"
     ]
    }
   ],
   "source": [
    "# Show the attributes of the ExpConf class with iPython magic\n",
    "%params ExpConf\n",
    "\n",
    "# Show the attributes of the ExpConf class as a nested dictionary\n",
    "ExpConf.param"
   ]
  },
  {
   "cell_type": "markdown",
   "metadata": {},
   "source": [
    "Each preconfigured experiment that comes with larvaworld can be referenced by a unique experiment ID. Use this ID to load the corresponding configuration from the registry.\n",
    "\n",
    "Since configrations are essentially just nested dictionary you can easily access and print out a specific setting of interest using a dot syntax."
   ]
  },
  {
   "cell_type": "code",
   "execution_count": null,
   "metadata": {},
   "outputs": [],
   "source": [
    "# load predefined experiment\n",
    "expID = \"chemorbit\"\n",
    "exp_conf = reg.conf.Exp.getID(expID)\n",
    "# explore some experiment settings\n",
    "print(\n",
    "    f\"Experiment odor intensity: {exp_conf.env_params.food_params.source_units.Source.odor}\"\n",
    ")"
   ]
  },
  {
   "cell_type": "markdown",
   "metadata": {},
   "source": [
    "In order to modify a specific parameter in the loaded experiment configuration you simply assign a new value to it like you would do with a regular Python dictionary:"
   ]
  },
  {
   "cell_type": "code",
   "execution_count": null,
   "metadata": {},
   "outputs": [],
   "source": [
    "# customize odor intensity of above source\n",
    "exp_conf.env_params.food_params.source_units.Source.odor.spread = 0.01\n",
    "print(\n",
    "    f\"Adjusted odor intensity: {exp_conf.env_params.food_params.source_units.Source.odor}\"\n",
    ")"
   ]
  },
  {
   "cell_type": "markdown",
   "metadata": {},
   "source": [
    "Next we want to investigate what larva grous the experiment defines. Larva groups is the setting which allows you to control the number and type of larva agents you want to place into the experiment.\n",
    "\n",
    "Each group has its own configuration with regard to the larva agent, the number of agent instances to place and the initial locations. Each group will be assigned a dedicated color such that when you run a simulation you can immediately tell which agent instance belongs to which group. Similarly to how genetic mutations in real experiments work - just without all the lab hassle."
   ]
  },
  {
   "cell_type": "code",
   "execution_count": null,
   "metadata": {},
   "outputs": [],
   "source": [
    "larva_group = exp_conf.larva_groups\n",
    "# Print the entire larva group config\n",
    "print(\"Larva group configuration:\")\n",
    "print(larva_group)\n",
    "\n",
    "print(f\"Available larva group IDs/names: {larva_group.keylist}\")\n",
    "# get the \"name\" of the first larva group\n",
    "# this defaults to the larva agent model ID used by this group if none is provided\n",
    "larva_group_id = larva_group.keylist[0]\n",
    "# larva_group_id and model ID are both the same thing if no custom larva_group name is provided\n",
    "print(larva_group_id, larva_group[larva_group_id].model)"
   ]
  },
  {
   "cell_type": "markdown",
   "metadata": {},
   "source": [
    "Each group has its own larva agent model configuration which is defined by a model ID.\n",
    "That model ID can be used to retrieve the model configuration from the registry.\n",
    "\n",
    "Again you can customize a model configuration like a regular Python dictionary:"
   ]
  },
  {
   "cell_type": "code",
   "execution_count": null,
   "metadata": {},
   "outputs": [],
   "source": [
    "# access the model_id that is used by larva agent instances created by this group:\n",
    "print(f\"model_id of group #1: {larva_group[larva_group_id].model}\")\n",
    "\n",
    "# change the model type to use by this larva group:\n",
    "exp_conf.larva_groups[larva_group_id].model = \"Levy_navigator\"\n",
    "\n",
    "# retrieve and print the model configuration of a given model ID\n",
    "mm = reg.conf.Model.getID(larva_group[larva_group_id].model)\n",
    "print(f\"larva agent model config: {mm}\")\n",
    "\n",
    "# customize some parameters of that model's behavioral modules:\n",
    "mm.brain.turner.amp = 10.0\n",
    "mm.brain.crawler.amp = 0.75\n",
    "\n",
    "# Launch a simulation run of the customized experiment:\n",
    "\n",
    "run_id = \"my-custom-run\"\n",
    "\n",
    "# This runs the simulation\n",
    "# You can omit the screen_kws to prevent a GUI rendering during experiment run\n",
    "erun = sim.ExpRun(\n",
    "    experiment=expID,\n",
    "    modelIDs=[\"navigator\", \"Levy_navigator\"],\n",
    "    screen_kws={\n",
    "        \"vis_mode\": \"video\",  # valid options: video, image, None\n",
    "        \"show_display\": True,\n",
    "        \"save_video\": True,  # if you want to save the experiment as video file\n",
    "        \"fps\": 20,  # framerate of the video files - higher = slower simulation runtime\n",
    "        # save video files to videos/larva-sim-*.mp4 file\n",
    "        \"video_file\": \"larva-sim-{}.mp4\".format(run_id),\n",
    "        \"media_dir\": \"videos/\",\n",
    "    },\n",
    "    N=2,  # number of larva agent instances to place per group\n",
    "    duration=0.5,  # overall duration of the experiment simulation in seconds\n",
    ")\n",
    "\n",
    "erun.simulate()\n",
    "print(\"Run_id: {} completed - videoFile: videos/larva-sim-{}\".format(run_id, run_id))\n",
    "\n",
    "# run analysis on recorded simulation data\n",
    "erun.analyze()"
   ]
  }
 ],
 "metadata": {
  "kernelspec": {
   "display_name": "Python 3 (ipykernel)",
   "language": "python",
   "name": "python3"
  },
  "language_info": {
   "codemirror_mode": {
    "name": "ipython",
    "version": 3
   },
   "file_extension": ".py",
   "mimetype": "text/x-python",
   "name": "python",
   "nbconvert_exporter": "python",
   "pygments_lexer": "ipython3",
   "version": "3.13.2"
  }
 },
 "nbformat": 4,
 "nbformat_minor": 4
}
