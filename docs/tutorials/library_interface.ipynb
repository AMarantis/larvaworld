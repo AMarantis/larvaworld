{
 "cells": [
  {
   "cell_type": "markdown",
   "metadata": {},
   "source": [
    "## Develop and use custom behavioral modules\n",
    "\n",
    "This tutorial demonstrates how to use the larvaworld library interface to create, modify and launch virtual experiments.\n",
    "Larvaworld ships with a comprehensive set of preconfigured experiments that reflect many types of dish experiments that are conducted by experimental researchers.\n",
    "\n",
    "A larvaworld experiment is a set of configuration variables that describe and control various aspects of the overall virtual experiment.\n",
    "This includes:\n",
    "- the environment definition (dish geometry and dimensions)\n",
    "- location, shape and intensity of sensory objects (food patches, odor sources ...)\n",
    "- the number, size and placement of larva groups\n",
    "- the larva agent configuration per group\n",
    "    - body physics\n",
    "    - behavioral modules and their parameters\n",
    "    - initial states (ie. metabolic state)\n",
    "\n",
    "As one can see the number of available parameters is quite large.\n",
    "There are several preconfigured experiments available that can be launched instantly.\n",
    "In order to create your own custom experiment we recommend to start off with one of the available preconfigured experiments that best match the type of experiment you want to ran. And then modify any specific parameters you would like to customize.\n",
    "\n",
    "Let's walk through the steps to create a custom experiment where we want to customize the intensity of the odor landscape available in the dish.\n",
    "First define all required imports: "
   ]
  },
  {
   "cell_type": "code",
   "execution_count": 3,
   "metadata": {},
   "outputs": [
    {
     "ename": "ModuleNotFoundError",
     "evalue": "No module named 'param'",
     "output_type": "error",
     "traceback": [
      "\u001b[0;31m---------------------------------------------------------------------------\u001b[0m",
      "\u001b[0;31mModuleNotFoundError\u001b[0m                       Traceback (most recent call last)",
      "Cell \u001b[0;32mIn[3], line 1\u001b[0m\n\u001b[0;32m----> 1\u001b[0m \u001b[43mget_ipython\u001b[49m\u001b[43m(\u001b[49m\u001b[43m)\u001b[49m\u001b[38;5;241;43m.\u001b[39;49m\u001b[43mrun_line_magic\u001b[49m\u001b[43m(\u001b[49m\u001b[38;5;124;43m'\u001b[39;49m\u001b[38;5;124;43mload_ext\u001b[39;49m\u001b[38;5;124;43m'\u001b[39;49m\u001b[43m,\u001b[49m\u001b[43m \u001b[49m\u001b[38;5;124;43m'\u001b[39;49m\u001b[38;5;124;43mparam.ipython\u001b[39;49m\u001b[38;5;124;43m'\u001b[39;49m\u001b[43m)\u001b[49m\n\u001b[1;32m      2\u001b[0m \u001b[38;5;28;01mfrom\u001b[39;00m \u001b[38;5;21;01mparam\u001b[39;00m\u001b[38;5;21;01m.\u001b[39;00m\u001b[38;5;21;01mipython\u001b[39;00m \u001b[38;5;28;01mimport\u001b[39;00m ParamPager\n\u001b[1;32m      3\u001b[0m \u001b[38;5;28;01mimport\u001b[39;00m \u001b[38;5;21;01mparams\u001b[39;00m\u001b[38;5;21;01m.\u001b[39;00m\u001b[38;5;21;01mIPython\u001b[39;00m\n",
      "File \u001b[0;32m/usr/local/Cellar/jupyterlab/4.3.4/libexec/lib/python3.13/site-packages/IPython/core/interactiveshell.py:2480\u001b[0m, in \u001b[0;36mInteractiveShell.run_line_magic\u001b[0;34m(self, magic_name, line, _stack_depth)\u001b[0m\n\u001b[1;32m   2478\u001b[0m     kwargs[\u001b[38;5;124m'\u001b[39m\u001b[38;5;124mlocal_ns\u001b[39m\u001b[38;5;124m'\u001b[39m] \u001b[38;5;241m=\u001b[39m \u001b[38;5;28mself\u001b[39m\u001b[38;5;241m.\u001b[39mget_local_scope(stack_depth)\n\u001b[1;32m   2479\u001b[0m \u001b[38;5;28;01mwith\u001b[39;00m \u001b[38;5;28mself\u001b[39m\u001b[38;5;241m.\u001b[39mbuiltin_trap:\n\u001b[0;32m-> 2480\u001b[0m     result \u001b[38;5;241m=\u001b[39m \u001b[43mfn\u001b[49m\u001b[43m(\u001b[49m\u001b[38;5;241;43m*\u001b[39;49m\u001b[43margs\u001b[49m\u001b[43m,\u001b[49m\u001b[43m \u001b[49m\u001b[38;5;241;43m*\u001b[39;49m\u001b[38;5;241;43m*\u001b[39;49m\u001b[43mkwargs\u001b[49m\u001b[43m)\u001b[49m\n\u001b[1;32m   2482\u001b[0m \u001b[38;5;66;03m# The code below prevents the output from being displayed\u001b[39;00m\n\u001b[1;32m   2483\u001b[0m \u001b[38;5;66;03m# when using magics with decorator @output_can_be_silenced\u001b[39;00m\n\u001b[1;32m   2484\u001b[0m \u001b[38;5;66;03m# when the last Python token in the expression is a ';'.\u001b[39;00m\n\u001b[1;32m   2485\u001b[0m \u001b[38;5;28;01mif\u001b[39;00m \u001b[38;5;28mgetattr\u001b[39m(fn, magic\u001b[38;5;241m.\u001b[39mMAGIC_OUTPUT_CAN_BE_SILENCED, \u001b[38;5;28;01mFalse\u001b[39;00m):\n",
      "File \u001b[0;32m/usr/local/Cellar/jupyterlab/4.3.4/libexec/lib/python3.13/site-packages/IPython/core/magics/extension.py:33\u001b[0m, in \u001b[0;36mExtensionMagics.load_ext\u001b[0;34m(self, module_str)\u001b[0m\n\u001b[1;32m     31\u001b[0m \u001b[38;5;28;01mif\u001b[39;00m \u001b[38;5;129;01mnot\u001b[39;00m module_str:\n\u001b[1;32m     32\u001b[0m     \u001b[38;5;28;01mraise\u001b[39;00m UsageError(\u001b[38;5;124m'\u001b[39m\u001b[38;5;124mMissing module name.\u001b[39m\u001b[38;5;124m'\u001b[39m)\n\u001b[0;32m---> 33\u001b[0m res \u001b[38;5;241m=\u001b[39m \u001b[38;5;28;43mself\u001b[39;49m\u001b[38;5;241;43m.\u001b[39;49m\u001b[43mshell\u001b[49m\u001b[38;5;241;43m.\u001b[39;49m\u001b[43mextension_manager\u001b[49m\u001b[38;5;241;43m.\u001b[39;49m\u001b[43mload_extension\u001b[49m\u001b[43m(\u001b[49m\u001b[43mmodule_str\u001b[49m\u001b[43m)\u001b[49m\n\u001b[1;32m     35\u001b[0m \u001b[38;5;28;01mif\u001b[39;00m res \u001b[38;5;241m==\u001b[39m \u001b[38;5;124m'\u001b[39m\u001b[38;5;124malready loaded\u001b[39m\u001b[38;5;124m'\u001b[39m:\n\u001b[1;32m     36\u001b[0m     \u001b[38;5;28mprint\u001b[39m(\u001b[38;5;124m\"\u001b[39m\u001b[38;5;124mThe \u001b[39m\u001b[38;5;132;01m%s\u001b[39;00m\u001b[38;5;124m extension is already loaded. To reload it, use:\u001b[39m\u001b[38;5;124m\"\u001b[39m \u001b[38;5;241m%\u001b[39m module_str)\n",
      "File \u001b[0;32m/usr/local/Cellar/jupyterlab/4.3.4/libexec/lib/python3.13/site-packages/IPython/core/extensions.py:62\u001b[0m, in \u001b[0;36mExtensionManager.load_extension\u001b[0;34m(self, module_str)\u001b[0m\n\u001b[1;32m     55\u001b[0m \u001b[38;5;250m\u001b[39m\u001b[38;5;124;03m\"\"\"Load an IPython extension by its module name.\u001b[39;00m\n\u001b[1;32m     56\u001b[0m \n\u001b[1;32m     57\u001b[0m \u001b[38;5;124;03mReturns the string \"already loaded\" if the extension is already loaded,\u001b[39;00m\n\u001b[1;32m     58\u001b[0m \u001b[38;5;124;03m\"no load function\" if the module doesn't have a load_ipython_extension\u001b[39;00m\n\u001b[1;32m     59\u001b[0m \u001b[38;5;124;03mfunction, or None if it succeeded.\u001b[39;00m\n\u001b[1;32m     60\u001b[0m \u001b[38;5;124;03m\"\"\"\u001b[39;00m\n\u001b[1;32m     61\u001b[0m \u001b[38;5;28;01mtry\u001b[39;00m:\n\u001b[0;32m---> 62\u001b[0m     \u001b[38;5;28;01mreturn\u001b[39;00m \u001b[38;5;28;43mself\u001b[39;49m\u001b[38;5;241;43m.\u001b[39;49m\u001b[43m_load_extension\u001b[49m\u001b[43m(\u001b[49m\u001b[43mmodule_str\u001b[49m\u001b[43m)\u001b[49m\n\u001b[1;32m     63\u001b[0m \u001b[38;5;28;01mexcept\u001b[39;00m \u001b[38;5;167;01mModuleNotFoundError\u001b[39;00m:\n\u001b[1;32m     64\u001b[0m     \u001b[38;5;28;01mif\u001b[39;00m module_str \u001b[38;5;129;01min\u001b[39;00m BUILTINS_EXTS:\n",
      "File \u001b[0;32m/usr/local/Cellar/jupyterlab/4.3.4/libexec/lib/python3.13/site-packages/IPython/core/extensions.py:77\u001b[0m, in \u001b[0;36mExtensionManager._load_extension\u001b[0;34m(self, module_str)\u001b[0m\n\u001b[1;32m     75\u001b[0m \u001b[38;5;28;01mwith\u001b[39;00m \u001b[38;5;28mself\u001b[39m\u001b[38;5;241m.\u001b[39mshell\u001b[38;5;241m.\u001b[39mbuiltin_trap:\n\u001b[1;32m     76\u001b[0m     \u001b[38;5;28;01mif\u001b[39;00m module_str \u001b[38;5;129;01mnot\u001b[39;00m \u001b[38;5;129;01min\u001b[39;00m sys\u001b[38;5;241m.\u001b[39mmodules:\n\u001b[0;32m---> 77\u001b[0m         mod \u001b[38;5;241m=\u001b[39m \u001b[43mimport_module\u001b[49m\u001b[43m(\u001b[49m\u001b[43mmodule_str\u001b[49m\u001b[43m)\u001b[49m\n\u001b[1;32m     78\u001b[0m     mod \u001b[38;5;241m=\u001b[39m sys\u001b[38;5;241m.\u001b[39mmodules[module_str]\n\u001b[1;32m     79\u001b[0m     \u001b[38;5;28;01mif\u001b[39;00m \u001b[38;5;28mself\u001b[39m\u001b[38;5;241m.\u001b[39m_call_load_ipython_extension(mod):\n",
      "File \u001b[0;32m/usr/local/Cellar/python@3.13/3.13.1/Frameworks/Python.framework/Versions/3.13/lib/python3.13/importlib/__init__.py:88\u001b[0m, in \u001b[0;36mimport_module\u001b[0;34m(name, package)\u001b[0m\n\u001b[1;32m     86\u001b[0m             \u001b[38;5;28;01mbreak\u001b[39;00m\n\u001b[1;32m     87\u001b[0m         level \u001b[38;5;241m+\u001b[39m\u001b[38;5;241m=\u001b[39m \u001b[38;5;241m1\u001b[39m\n\u001b[0;32m---> 88\u001b[0m \u001b[38;5;28;01mreturn\u001b[39;00m \u001b[43m_bootstrap\u001b[49m\u001b[38;5;241;43m.\u001b[39;49m\u001b[43m_gcd_import\u001b[49m\u001b[43m(\u001b[49m\u001b[43mname\u001b[49m\u001b[43m[\u001b[49m\u001b[43mlevel\u001b[49m\u001b[43m:\u001b[49m\u001b[43m]\u001b[49m\u001b[43m,\u001b[49m\u001b[43m \u001b[49m\u001b[43mpackage\u001b[49m\u001b[43m,\u001b[49m\u001b[43m \u001b[49m\u001b[43mlevel\u001b[49m\u001b[43m)\u001b[49m\n",
      "File \u001b[0;32m<frozen importlib._bootstrap>:1387\u001b[0m, in \u001b[0;36m_gcd_import\u001b[0;34m(name, package, level)\u001b[0m\n",
      "File \u001b[0;32m<frozen importlib._bootstrap>:1360\u001b[0m, in \u001b[0;36m_find_and_load\u001b[0;34m(name, import_)\u001b[0m\n",
      "File \u001b[0;32m<frozen importlib._bootstrap>:1310\u001b[0m, in \u001b[0;36m_find_and_load_unlocked\u001b[0;34m(name, import_)\u001b[0m\n",
      "File \u001b[0;32m<frozen importlib._bootstrap>:488\u001b[0m, in \u001b[0;36m_call_with_frames_removed\u001b[0;34m(f, *args, **kwds)\u001b[0m\n",
      "File \u001b[0;32m<frozen importlib._bootstrap>:1387\u001b[0m, in \u001b[0;36m_gcd_import\u001b[0;34m(name, package, level)\u001b[0m\n",
      "File \u001b[0;32m<frozen importlib._bootstrap>:1360\u001b[0m, in \u001b[0;36m_find_and_load\u001b[0;34m(name, import_)\u001b[0m\n",
      "File \u001b[0;32m<frozen importlib._bootstrap>:1324\u001b[0m, in \u001b[0;36m_find_and_load_unlocked\u001b[0;34m(name, import_)\u001b[0m\n",
      "\u001b[0;31mModuleNotFoundError\u001b[0m: No module named 'param'"
     ]
    }
   ],
   "source": [
    "%load_ext param.ipython\n",
    "from param.ipython import ParamPager\n",
    "import params.IPython\n",
    "import larvaworld.lib.reg as reg\n",
    "import larvaworld.lib.sim as sim\n",
    "from larvaworld.lib.reg.generators import ExpConf\n",
    "\n",
    "# Setting the verbosity level to 0 to get more information\n",
    "lw.VERBOSE = 1"
   ]
  },
  {
   "cell_type": "markdown",
   "metadata": {},
   "source": [
    "Larvaworld uses mostly dictionary structures to store and manage the configuration parameters of experiments.\n",
    "It also supports iPython magic commands to explore these.\n",
    "For example here we print out all parameters and settings that are available in an experiment via the ExpConf class:\n",
    "\n",
    "This includes:\n",
    "- General simulation arguments (duration, timestep etc)\n",
    "- Environment configuration (dish, geometry, size)\n",
    "- Parameters to be recorded from larva agents and their post-simulation analysis \n",
    "- Larva groups\n",
    "  "
   ]
  },
  {
   "cell_type": "code",
   "execution_count": null,
   "metadata": {},
   "outputs": [],
   "source": [
    "# Show the attributes of the ExpConf class with iPython magic\n",
    "%params ExpConf\n",
    "\n",
    "# Show the attributes of the ExpConf class as a nested dictionary\n",
    "ExpConf.param"
   ]
  },
  {
   "cell_type": "markdown",
   "metadata": {},
   "source": [
    "Each preconfigured experiment that comes with larvaworld can be referenced by a unique experiment ID. Use this ID to load the corresponding configuration from the registry.\n",
    "\n",
    "Since configrations are essentially just nested dictionary you can easily access and print out a specific setting of interest using a dot syntax."
   ]
  },
  {
   "cell_type": "code",
   "execution_count": null,
   "metadata": {},
   "outputs": [],
   "source": [
    "# load predefined experiment\n",
    "expID = \"chemorbit\"\n",
    "exp_conf = reg.conf.Exp.getID(expID)\n",
    "# explore some experiment settings\n",
    "print(\n",
    "    f\"Experiment odor intensity: {exp_conf.env_params.food_params.source_units.Source.odor}\"\n",
    ")"
   ]
  },
  {
   "cell_type": "markdown",
   "metadata": {},
   "source": [
    "In order to modify a specific parameter in the loaded experiment configuration you simply assign a new value to it like you would do with a regular Python dictionary:"
   ]
  },
  {
   "cell_type": "code",
   "execution_count": null,
   "metadata": {},
   "outputs": [],
   "source": [
    "# customize odor intensity of above source\n",
    "exp_conf.env_params.food_params.source_units.Source.odor.spread = 0.01\n",
    "print(\n",
    "    f\"Adjusted odor intensity: {exp_conf.env_params.food_params.source_units.Source.odor}\"\n",
    ")"
   ]
  },
  {
   "cell_type": "markdown",
   "metadata": {},
   "source": [
    "Next we want to investigate what larva grous the experiment defines. Larva groups is the setting which allows you to control the number and type of larva agents you want to place into the experiment.\n",
    "\n",
    "Each group has its own configuration with regard to the larva agent, the number of agent instances to place and the initial locations. Each group will be assigned a dedicated color such that when you run a simulation you can immediately tell which agent instance belongs to which group. Similarly to how genetic mutations in real experiments work - just without all the lab hassle."
   ]
  },
  {
   "cell_type": "code",
   "execution_count": null,
   "metadata": {},
   "outputs": [],
   "source": [
    "larva_group = exp_conf.larva_groups\n",
    "# Print the entire larva group config\n",
    "print(\"Larva group configuration:\")\n",
    "print(larva_group)\n",
    "\n",
    "print(f\"Available larva group IDs/names: {larva_group.keylist}\")\n",
    "# get the \"name\" of the first larva group\n",
    "# this defaults to the larva agent model ID used by this group if none is provided\n",
    "larva_group_id = larva_group.keylist[0]\n",
    "# larva_group_id and model ID are both the same thing if no custom larva_group name is provided\n",
    "print(larva_group_id, larva_group[larva_group_id].model)"
   ]
  },
  {
   "cell_type": "markdown",
   "metadata": {},
   "source": [
    "Each group has its own larva agent model configuration which is defined by a model ID.\n",
    "That model ID can be used to retrieve the model configuration from the registry.\n",
    "\n",
    "Again you can customize a model configuration like a regular Python dictionary:"
   ]
  },
  {
   "cell_type": "code",
   "execution_count": null,
   "metadata": {},
   "outputs": [],
   "source": [
    "# access the model_id that is used by larva agent instances created by this group:\n",
    "print(f\"model_id of group #1: {larva_group[larva_group_id].model}\")\n",
    "\n",
    "# change the model type to use by this larva group:\n",
    "exp_conf.larva_groups[larva_group_id].model = \"Levy_navigator\"\n",
    "\n",
    "# retrieve and print the model configuration of a given model ID\n",
    "mm = reg.conf.Model.getID(larva_group[larva_group_id].model)\n",
    "print(f\"larva agent model config: {mm}\")\n",
    "\n",
    "# customize some parameters of that model's behavioral modules:\n",
    "mm.brain.turner.amp = 10.0\n",
    "mm.brain.crawler.amp = 0.75\n",
    "\n",
    "# Launch a simulation run of the customized experiment:\n",
    "\n",
    "run_id = \"my-custom-run\"\n",
    "\n",
    "# This runs the simulation\n",
    "# You can omit the screen_kws to prevent a GUI rendering during experiment run\n",
    "erun = sim.ExpRun(\n",
    "    experiment=expID,\n",
    "    modelIDs=[\"navigator\", \"Levy_navigator\"],\n",
    "    screen_kws={\n",
    "        \"vis_mode\": \"video\",  # valid options: video, image, None\n",
    "        \"show_display\": True,\n",
    "        \"save_video\": True,  # if you want to save the experiment as video file\n",
    "        \"fps\": 20,  # framerate of the video files - higher = slower simulation runtime\n",
    "        # save video files to videos/larva-sim-*.mp4 file\n",
    "        \"video_file\": \"larva-sim-{}.mp4\".format(run_id),\n",
    "        \"media_dir\": \"videos/\",\n",
    "    },\n",
    "    N=2,  # number of larva agent instances to place per group\n",
    "    duration=0.5,  # overall duration of the experiment simulation in seconds\n",
    ")\n",
    "\n",
    "erun.simulate()\n",
    "print(\"Run_id: {} completed - videoFile: videos/larva-sim-{}\".format(run_id, run_id))\n",
    "\n",
    "# run analysis on recorded simulation data\n",
    "erun.analyze()"
   ]
  }
 ],
 "metadata": {
  "kernelspec": {
   "display_name": "Python 3 (ipykernel)",
   "language": "python",
   "name": "python3"
  },
  "language_info": {
   "codemirror_mode": {
    "name": "ipython",
    "version": 3
   },
   "file_extension": ".py",
   "mimetype": "text/x-python",
   "name": "python",
   "nbconvert_exporter": "python",
   "pygments_lexer": "ipython3",
   "version": "3.13.1"
  }
 },
 "nbformat": 4,
 "nbformat_minor": 4
}
