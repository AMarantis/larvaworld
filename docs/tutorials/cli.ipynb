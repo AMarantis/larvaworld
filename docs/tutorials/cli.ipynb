{
 "cells": [
  {
   "cell_type": "markdown",
   "metadata": {},
   "source": [
    "## Command Line Interface\n",
    "\n",
    "This notebook illustrates the command line interface (CLI) of the larvaworld package\n",
    "\n",
    "The CLI entry point / shell command is `larvaworld` and can be run on a terminal along with additional arguments. \n",
    "\n",
    "Here we will run it from within the notebook using `!`.\n",
    "\n",
    "The `--help`/`-h` flag displays a help message.\n",
    "\n",
    "The `-verbose` flag controls the verbosity of the output\n",
    "\n",
    "The `--show_parser_args`/`-parsargs` flag shows the parsed argument namespace"
   ]
  },
  {
   "cell_type": "code",
   "execution_count": null,
   "metadata": {},
   "outputs": [],
   "source": [
    "# Display the help message for larvaworld\n",
    "!larvaworld -h"
   ]
  },
  {
   "cell_type": "code",
   "execution_count": null,
   "metadata": {},
   "outputs": [],
   "source": [
    "# Control the verbosity of the output\n",
    "!larvaworld -verbose 0"
   ]
  },
  {
   "cell_type": "code",
   "execution_count": null,
   "metadata": {},
   "outputs": [],
   "source": [
    "# Show the parsed argument namespace\n",
    "!larvaworld -parsargs"
   ]
  },
  {
   "cell_type": "markdown",
   "metadata": {},
   "source": [
    "There is only a single required positional argument that defines the simulation mode.\n",
    "\n",
    "This takes one of several predefined values (see help message above) and should be provided just after the command.\n",
    "\n",
    "Once the simulation mode is defined the available arguments can be set. Some of them are common but others diverge among modes.\n",
    "\n",
    "The help message can illustrate this :"
   ]
  },
  {
   "cell_type": "code",
   "execution_count": null,
   "metadata": {},
   "outputs": [],
   "source": [
    "# Display the help message for a given simulation mode\n",
    "!larvaworld Exp -h"
   ]
  },
  {
   "cell_type": "code",
   "execution_count": null,
   "metadata": {},
   "outputs": [],
   "source": [
    "# Display the help message for a given simulation mode\n",
    "!larvaworld Ga -h"
   ]
  },
  {
   "cell_type": "markdown",
   "metadata": {},
   "source": [
    "### Argument parser\n",
    "\n",
    "What arguments are there available in CLI?\n",
    "\n",
    "To answer this let's have a look at what's happening behind the scenes. The `ParserArgumentDict` class creates the available arguments for a specified input configuration class. Let's see some examples : "
   ]
  },
  {
   "cell_type": "code",
   "execution_count": 1,
   "metadata": {},
   "outputs": [
    {
     "name": "stdout",
     "output_type": "stream",
     "text": [
      "Initializing larvaworld registry\n",
      "Registry configured!\n"
     ]
    },
    {
     "data": {
      "text/plain": [
       "['Box2D',\n",
       " 'Nsteps',\n",
       " 'constant_framerate',\n",
       " 'dt',\n",
       " 'duration',\n",
       " 'fr',\n",
       " 'larva_collisions']"
      ]
     },
     "execution_count": 1,
     "metadata": {},
     "output_type": "execute_result"
    }
   ],
   "source": [
    "from larvaworld.lib.param import RuntimeOps, SimOps\n",
    "from larvaworld.cli.argparser import ParserArgumentDict\n",
    "from larvaworld.lib.screen import ScreenOps\n",
    "from larvaworld.lib import reg\n",
    "\n",
    "# Available simulation arguments\n",
    "sim_kws = ParserArgumentDict.from_param(d0=SimOps)\n",
    "sim_kws.parsargs.keylist.sorted"
   ]
  },
  {
   "cell_type": "code",
   "execution_count": null,
   "metadata": {},
   "outputs": [],
   "source": [
    "# Available visualization arguments\n",
    "screen_kws = ParserArgumentDict.from_param(d0=ScreenOps)\n",
    "screen_kws.parsargs.keylist.sorted"
   ]
  },
  {
   "cell_type": "code",
   "execution_count": null,
   "metadata": {},
   "outputs": [],
   "source": [
    "# Available GA-mode arguments\n",
    "GAselector = ParserArgumentDict.from_param(d0=reg.gen.GAselector)\n",
    "GAevaluation = ParserArgumentDict.from_param(d0=reg.gen.GAevaluation)\n",
    "\n",
    "print(GAselector.parsargs.keylist.sorted)\n",
    "print(GAevaluation.parsargs.keylist.sorted)"
   ]
  },
  {
   "cell_type": "code",
   "execution_count": 2,
   "metadata": {},
   "outputs": [
    {
     "data": {
      "text/plain": [
       "['agent_ids',\n",
       " 'close_view',\n",
       " 'draw_Nsegs',\n",
       " 'env_params',\n",
       " 'fix_point',\n",
       " 'fix_segment',\n",
       " 'overlap_mode',\n",
       " 'refDir',\n",
       " 'refID',\n",
       " 'time_range',\n",
       " 'track_point',\n",
       " 'transposition']"
      ]
     },
     "execution_count": 2,
     "metadata": {},
     "output_type": "execute_result"
    }
   ],
   "source": [
    "# Available replay-mode arguments\n",
    "Replay = ParserArgumentDict.from_param(d0=reg.gen.Replay)\n",
    "Replay.parsargs.keylist.sorted"
   ]
  },
  {
   "cell_type": "markdown",
   "metadata": {},
   "source": [
    "Now let's see the overarching argument parser used in CLI"
   ]
  },
  {
   "cell_type": "code",
   "execution_count": 4,
   "metadata": {},
   "outputs": [
    {
     "name": "stdout",
     "output_type": "stream",
     "text": [
      "{'screen_kws': <larvaworld.cli.argparser.ParserArgumentDict object at 0x7f197f7a2100>, 'SimOps': <larvaworld.cli.argparser.ParserArgumentDict object at 0x7f197f4d10d0>, 'RuntimeOps': <larvaworld.cli.argparser.ParserArgumentDict object at 0x7f197f4235e0>, 'Replay': <larvaworld.cli.argparser.ParserArgumentDict object at 0x7f197f550940>, 'Eval': <larvaworld.cli.argparser.ParserArgumentDict object at 0x7f197f668d30>, 'GAselector': <larvaworld.cli.argparser.ParserArgumentDict object at 0x7f197f356c10>, 'GAevaluation': <larvaworld.cli.argparser.ParserArgumentDict object at 0x7f197f7c0c40>}\n"
     ]
    }
   ],
   "source": [
    "from larvaworld.cli.argparser import SimModeParser\n",
    "\n",
    "# Initialize the parser\n",
    "P = SimModeParser()\n",
    "\n",
    "# The grouped arguments\n",
    "print(P.parsers)\n",
    "\n",
    "# The individual arguments\n",
    "# print(P.__dict__)"
   ]
  },
  {
   "cell_type": "code",
   "execution_count": 5,
   "metadata": {},
   "outputs": [
    {
     "name": "stdout",
     "output_type": "stream",
     "text": [
      "{'VERBOSE': 2, 'show_parser_args': False, 'sim_mode': None}\n"
     ]
    }
   ],
   "source": [
    "from cli_test_helpers import shell, ArgvContext\n",
    "\n",
    "\n",
    "with ArgvContext(\"larvaworld -verbose 0 Exp dish -N 5 -duration 3\"):\n",
    "    P = SimModeParser()\n",
    "    P.parse_args()\n",
    "    print(P.args)\n",
    "    # P.configure(show_args=P.args.show_parser_args)"
   ]
  },
  {
   "cell_type": "code",
   "execution_count": null,
   "metadata": {},
   "outputs": [],
   "source": []
  }
 ],
 "metadata": {
  "kernelspec": {
   "display_name": "larvaworld_autoversioning",
   "language": "python",
   "name": "python3"
  },
  "language_info": {
   "codemirror_mode": {
    "name": "ipython",
    "version": 3
   },
   "file_extension": ".py",
   "mimetype": "text/x-python",
   "name": "python",
   "nbconvert_exporter": "python",
   "pygments_lexer": "ipython3",
   "version": "3.8.13"
  }
 },
 "nbformat": 4,
 "nbformat_minor": 2
}
